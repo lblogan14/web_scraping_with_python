{
  "nbformat": 4,
  "nbformat_minor": 0,
  "metadata": {
    "colab": {
      "name": "ch15_test_website.ipynb",
      "version": "0.3.2",
      "provenance": [],
      "collapsed_sections": [],
      "include_colab_link": true
    },
    "kernelspec": {
      "name": "python3",
      "display_name": "Python 3"
    }
  },
  "cells": [
    {
      "cell_type": "markdown",
      "metadata": {
        "id": "view-in-github",
        "colab_type": "text"
      },
      "source": [
        "<a href=\"https://colab.research.google.com/github/lblogan14/web_scraping_with_python/blob/master/ch15_test_website.ipynb\" target=\"_parent\"><img src=\"https://colab.research.google.com/assets/colab-badge.svg\" alt=\"Open In Colab\"/></a>"
      ]
    },
    {
      "cell_type": "markdown",
      "metadata": {
        "id": "lQS8hztQbBvn",
        "colab_type": "text"
      },
      "source": [
        "#An Introduction to Testing\n",
        "Having a suite of tests that can be run to ensure that code performs as expected."
      ]
    },
    {
      "cell_type": "markdown",
      "metadata": {
        "id": "2LBMuqVebEJX",
        "colab_type": "text"
      },
      "source": [
        "##What are Unit Tests\n",
        "A unit test has the following charateristics:\n",
        "* Each unit test tests one aspect of the functionality of a component. Often, unit tests are grouped together in the same class, based on the component they are testing.\n",
        "* Each unit test can be run completely independently, and any setup or teardown required for the unit test must be handled by the unit test itself.\n",
        "* Each unit test usually contains at least one *assertion*.\n",
        "* Unit tests are separated from the bulk of the code."
      ]
    },
    {
      "cell_type": "markdown",
      "metadata": {
        "id": "Xs05s5r2bHnb",
        "colab_type": "text"
      },
      "source": [
        "#Python `unittest`\n",
        "The `unittest.TestCase` can do the following:\n",
        "* Provide `setUp` and `tearDown` functions that run before and after each unit test\n",
        "* Provide several types of “assert” statements to allow tests to pass or fail\n",
        "* Run all functions that begin with `test_` as unit tests, and ignore functions that\n",
        "are not prepended as tests\n",
        "\n",
        "The following provides a simple unit test for ensuring that 2+2=4:"
      ]
    },
    {
      "cell_type": "code",
      "metadata": {
        "id": "F3n17wyFmTYI",
        "colab_type": "code",
        "colab": {}
      },
      "source": [
        "import unittest"
      ],
      "execution_count": 0,
      "outputs": []
    },
    {
      "cell_type": "code",
      "metadata": {
        "id": "-u6mMbuhmUkg",
        "colab_type": "code",
        "colab": {
          "base_uri": "https://localhost:8080/",
          "height": 139
        },
        "outputId": "3f44b03a-359e-43b3-ffda-20bdab69eada"
      },
      "source": [
        "class TestAddition(unittest.TestCase):\n",
        "  \n",
        "  def setUp(self):\n",
        "    print('Setting up the test')\n",
        "    \n",
        "  def tearDown(self):\n",
        "    print('Tearing down the test')\n",
        "    \n",
        "  def test_twoPlusTwo(self):\n",
        "    total = 2+2\n",
        "    self.assertEqual(4, total)\n",
        "    \n",
        "if __name__ == '__main__':\n",
        "  unittest.main(argv=[''], exit=False)"
      ],
      "execution_count": 3,
      "outputs": [
        {
          "output_type": "stream",
          "text": [
            "."
          ],
          "name": "stderr"
        },
        {
          "output_type": "stream",
          "text": [
            "Setting up the test\n",
            "Tearing down the test\n"
          ],
          "name": "stdout"
        },
        {
          "output_type": "stream",
          "text": [
            "\n",
            "----------------------------------------------------------------------\n",
            "Ran 1 test in 0.004s\n",
            "\n",
            "OK\n"
          ],
          "name": "stderr"
        }
      ]
    },
    {
      "cell_type": "markdown",
      "metadata": {
        "id": "J53CHsQpm8Yo",
        "colab_type": "text"
      },
      "source": [
        "`setUp` `tearDown` are only included for the purposes of illustration here. These functions are run before and after each individual test, not before and after all the tests in the class. "
      ]
    },
    {
      "cell_type": "markdown",
      "metadata": {
        "id": "Y4KmE5DFoXjB",
        "colab_type": "text"
      },
      "source": [
        "###Running `unittest` in Jupyter-like environment\n",
        "\n",
        "\n",
        "```\n",
        "if __name__ == '__main__':\n",
        "  unittest.main()\n",
        "```\n",
        "\n",
        "The line `if __name__ == '__main__'` is true only if the line is executed directly in Python, and not via an import statement. This allows users to run their own unit test, using the `unittest.TestCase` class that it extends, directly from the command line. \\\\\n",
        "In a Jupyter-like environment, things are a little bit different. The `argv` parameters created by Jupyter can cause errors in the unit test, and, because the `unittest` framework exits Python by default after the test is run (which causes problems in the notebook kernel). \\\\\n",
        "To prevent this from happening, need to launch unit tests in the following way:\n",
        "\n",
        "\n",
        "```\n",
        "if __name__ == '__main__':\n",
        "  unittest.main(argv=[''], exit=False)\n",
        "  %reset\n",
        "```\n",
        "\n",
        "The second line sets all of the `argv` variables (command-line arguments) to a single\n",
        "empty string, which is ignored by `unnittest.main`. It also prevents `unittest` from\n",
        "exiting after the test is run. \\\\\n",
        "The `%reset` line resets the memory and destroys all user-created variables in the Jupyter notebook. Without it, each unit test written in the notebook will contain all of the methods from all other previously run tests that also inherited `unittest.TestCase`, including `setUp` and `tearDown` methods."
      ]
    },
    {
      "cell_type": "markdown",
      "metadata": {
        "id": "y7KBm3YubL55",
        "colab_type": "text"
      },
      "source": [
        "##Testing Wikipedia"
      ]
    },
    {
      "cell_type": "markdown",
      "metadata": {
        "id": "F9bvSRmcp6Ik",
        "colab_type": "text"
      },
      "source": [
        "Testing the frontend of targeted website (excluding JavaScript) combines the Python `unittest` library with a web scraper:"
      ]
    },
    {
      "cell_type": "code",
      "metadata": {
        "id": "2SkoM8OeqF1X",
        "colab_type": "code",
        "colab": {}
      },
      "source": [
        "from urllib.request import urlopen\n",
        "from bs4 import BeautifulSoup\n",
        "import unittest"
      ],
      "execution_count": 0,
      "outputs": []
    },
    {
      "cell_type": "code",
      "metadata": {
        "id": "g0DrrVH-reJ3",
        "colab_type": "code",
        "colab": {
          "base_uri": "https://localhost:8080/",
          "height": 156
        },
        "outputId": "454e1b66-0acb-43d1-fe49-ca1cc03f9874"
      },
      "source": [
        "class TestWikipedia(unittest.TestCase):\n",
        "  \n",
        "  bs = None\n",
        "  def setUpClass():\n",
        "    url = 'http://en.wikipedia.org/wiki/Monty_Python'\n",
        "    TestWikipedia.bs = BeautifulSoup(urlopen(url), 'html.parser')\n",
        "    \n",
        "  def test_titleText(self):\n",
        "    pageTitle = TestWikipedia.bs.find('h1').get_text()\n",
        "    self.assertEqual('Monty Python', pageTitle)\n",
        "    \n",
        "  def test_contentExists(self):\n",
        "    content = TestWikipedia.bs.find('div', {'id': 'mw-content-text'})\n",
        "    self.assertIsNotNone(content)\n",
        "    \n",
        "if __name__ == '__main__':\n",
        "  unittest.main(argv=[''], exit=False)\n",
        "  %reset"
      ],
      "execution_count": 5,
      "outputs": [
        {
          "output_type": "stream",
          "text": [
            "."
          ],
          "name": "stderr"
        },
        {
          "output_type": "stream",
          "text": [
            "Setting up the test\n",
            "Tearing down the test\n"
          ],
          "name": "stdout"
        },
        {
          "output_type": "stream",
          "text": [
            "..\n",
            "----------------------------------------------------------------------\n",
            "Ran 3 tests in 0.894s\n",
            "\n",
            "OK\n"
          ],
          "name": "stderr"
        },
        {
          "output_type": "stream",
          "text": [
            "Once deleted, variables cannot be recovered. Proceed (y/[n])? y\n"
          ],
          "name": "stdout"
        }
      ]
    },
    {
      "cell_type": "markdown",
      "metadata": {
        "id": "s9y180JPsuT5",
        "colab_type": "text"
      },
      "source": [
        "There are two tests this time: the first tests whether the title of the page is the\n",
        "expected “Monty Python,” and the second makes sure that the page has a content div. \n",
        "\n",
        "The content of the page is loaded only once, and that the global object `bs` is shared between tests. The `setUpClass` function is run only once at the start of the class (unlike `setUp` which is run before every individual test). Use `setUpClass` instead of `setUp` to save unnecessary page loads. \\\\\n",
        "The `setUpClass` is a static method that “belongs” to the\n",
        "class itself and has global class variables, whereas `setUp` is an instance function that\n",
        "belongs to a particular instance of the class."
      ]
    },
    {
      "cell_type": "markdown",
      "metadata": {
        "id": "PNmpIOCVtfl_",
        "colab_type": "text"
      },
      "source": [
        "To run a test repeatedly, BE CAREFUL to load each page only once for each set of tests on that page, and make sure to also avoid holding large amounts of information in memory at once:"
      ]
    },
    {
      "cell_type": "code",
      "metadata": {
        "id": "7knjhl38tuiA",
        "colab_type": "code",
        "colab": {}
      },
      "source": [
        "from urllib.request import urlopen\n",
        "from bs4 import BeautifulSoup\n",
        "import unittest\n",
        "import re\n",
        "import random\n",
        "from urllib.parse import unquote"
      ],
      "execution_count": 0,
      "outputs": []
    },
    {
      "cell_type": "code",
      "metadata": {
        "id": "J18kKZ-gt0JL",
        "colab_type": "code",
        "colab": {
          "base_uri": "https://localhost:8080/",
          "height": 139
        },
        "outputId": "b5d93f51-566f-4da4-aee1-43118aa96ae4"
      },
      "source": [
        "class TestWikipedia(unittest.TestCase):\n",
        "  \n",
        "  def test_PageProperties(self):\n",
        "    self.url = 'http://en.wikipedia.org/wiki/Monty_Python'\n",
        "    #Test the first 10 pages encountered\n",
        "    for i in range(1,10):\n",
        "      self.bs = BeautifulSoup(urlopen(self.url), 'html.parser')\n",
        "      titles = self.titleMatchesURL()\n",
        "      self.assertEqual(titles[0], titles[1])\n",
        "      self.assertTrue(self.contentExists())\n",
        "      self.url = self.getNextLink()\n",
        "    print('Done!')\n",
        "    \n",
        "  def titleMatchesURL(self):\n",
        "    pageTitle = self.bs.find('h1').get_text()\n",
        "    urlTitle = self.url[(self.url.index('/wiki/')+6):]\n",
        "    urlTitle = urlTitle.replace('_', ' ')\n",
        "    urlTitle = unquote(urlTitle)\n",
        "    return [pageTitle.lower(), urlTitle.lower()]\n",
        "  \n",
        "  def contentExists(self):\n",
        "    content = self.bs.find('div', {'id': 'mw-content-text'})\n",
        "    if content is not None:\n",
        "      return True\n",
        "    return False\n",
        "  \n",
        "  def getNextLink(self):\n",
        "    #Returns random link on page, using technique from Chapter 3\n",
        "    links = self.bs.find('div', {'id': 'bodyContent'}).find_all('a',\n",
        "                                                                href=re.compile('^(/wiki/)((?!:).)*$'))\n",
        "    randomLink = random.SystemRandom().choice(links)\n",
        "    return 'https://wikipedia.org{}'.format(randomLink.attrs['href'])\n",
        "  \n",
        "if __name__ == '__main__':\n",
        "  unittest.main(argv=[''], exit=False)\n",
        "  %reset"
      ],
      "execution_count": 10,
      "outputs": [
        {
          "output_type": "stream",
          "text": [
            ".\n",
            "----------------------------------------------------------------------\n",
            "Ran 1 test in 10.841s\n",
            "\n",
            "OK\n"
          ],
          "name": "stderr"
        },
        {
          "output_type": "stream",
          "text": [
            "Done!\n",
            "Once deleted, variables cannot be recovered. Proceed (y/[n])? y\n"
          ],
          "name": "stdout"
        }
      ]
    },
    {
      "cell_type": "markdown",
      "metadata": {
        "id": "9WKQ6X6ovuFq",
        "colab_type": "text"
      },
      "source": [
        "* There is only one actual test in this class. Other functions are technically only helper functions.\n",
        "* While `contentExists` returns a boolean, `titleMatchesURL` returns the values themselves back for evaluation."
      ]
    },
    {
      "cell_type": "markdown",
      "metadata": {
        "id": "Fn59DFTIbNmz",
        "colab_type": "text"
      },
      "source": [
        "#Testing with Selenium\n",
        "Selenium tests can be written more casually than Python unit tests, and\n",
        "assert statements can even be integrated into regular code, where it is desirable for\n",
        "code execution to terminate if some condition is not met.\n",
        "\n",
        "```\n",
        "driver = webdriver.PhantomJS()\n",
        "driver.get('http://en.wikipedia.org/wiki/Monty_Python')\n",
        "assert 'Monty Python' in driver.title\n",
        "driver.close()\n",
        "```\n",
        "\n"
      ]
    },
    {
      "cell_type": "markdown",
      "metadata": {
        "id": "xAduertFbQbA",
        "colab_type": "text"
      },
      "source": [
        "##Interacting with the Site\n",
        "Everything introduced before is designed to bypass the brower infterface, not uses it. Selenium, on the other hand, can literally enter text, click buttons, and do everything through the browser and detect things like broken forms, badly coded JavaScript, HTML typos, and other issues.\n",
        "Key to this testing is the concept of Selenium `elements`:\n",
        "\n",
        "\n",
        "```\n",
        "usernameField = driver.find_element_by_name('username')\n",
        "```\n",
        "\n",
        "There are many actions Selenium can perform on any given element:\n",
        "\n",
        "\n",
        "```\n",
        "myElement.click()\n",
        "myElement.click_and_hold()\n",
        "myElement.release()\n",
        "myElement.double_click()\n",
        "myElement.send_keys_to_element('content to enter')\n",
        "```\n",
        "\n",
        "Strings of actions can be combined into *action chains*, which can be stored and executed once or multiple times in a program. The example is performed on the form page at *http://pythonscraping.com/pages/files/form.html*:"
      ]
    },
    {
      "cell_type": "code",
      "metadata": {
        "id": "AD2Q31spxtrj",
        "colab_type": "code",
        "colab": {}
      },
      "source": [
        "from selenium.webdriver.remote.webelement import WebElement\n",
        "from selenium.webdriver.common.keys import Keys\n",
        "from selenium.webdriver import ActionChains"
      ],
      "execution_count": 0,
      "outputs": []
    },
    {
      "cell_type": "code",
      "metadata": {
        "id": "556X7rq4xwZW",
        "colab_type": "code",
        "colab": {}
      },
      "source": [
        "driver = webdriver.PhantomJS(executable_path='<Path to Phantom JS>')\n",
        "driver.get('http://pythonscraping.com/pages/files/form.html')\n",
        "\n",
        "firstnameField = driver.find_element_by_name('firstname')\n",
        "lastnameField = driver.find_element_by_name('lastname')\n",
        "submitButton = driver.find_element_by_id('submit')\n",
        "\n",
        "### METHOD 1 ###\n",
        "firstnameField.send_keys('Ryan')\n",
        "lastnameField.send_keys('Mitchell')\n",
        "submitButton.click()\n",
        "\n",
        "### METHOD 2 ###\n",
        "actions = ActionChains(driver).click(firstnameField).send_keys('Ryan')\\\n",
        "                        .click(lastnameField).send_keys('Mitchell')\\\n",
        "                        .send_keys(Keys.RETURN)\n",
        "actions.perform()\n",
        "\n",
        "print(driver.find_element_by_tag_name('body').text)\n",
        "driver.close()"
      ],
      "execution_count": 0,
      "outputs": []
    },
    {
      "cell_type": "markdown",
      "metadata": {
        "id": "ndcplhX3yDN0",
        "colab_type": "text"
      },
      "source": [
        "Method 1 calls `send_keys` on the two fields and then clicks the submit button.\n",
        "Method 2 uses a single action chain to click and enter text in each field, which hap‐\n",
        "pens in a sequence after the perform method is called."
      ]
    },
    {
      "cell_type": "markdown",
      "metadata": {
        "id": "J3JwwMRMySqy",
        "colab_type": "text"
      },
      "source": [
        "To run it in Chrome:"
      ]
    },
    {
      "cell_type": "code",
      "metadata": {
        "id": "0wyGNo6fxpZP",
        "colab_type": "code",
        "colab": {}
      },
      "source": [
        "from selenium import webdriver\n",
        "from selenium.webdriver.common.keys import Keys\n",
        "from selenium.webdriver import ActionChains\n",
        "from selenium.webdriver.chrome.options import Options"
      ],
      "execution_count": 0,
      "outputs": []
    },
    {
      "cell_type": "code",
      "metadata": {
        "id": "mc_z94obyVZV",
        "colab_type": "code",
        "colab": {}
      },
      "source": [
        "chrome_options = Options()\n",
        "chrome_options.add_argument(\"--headless\")\n",
        "\n",
        "driver = webdriver.Chrome(executable_path='drivers/chromedriver',\n",
        "                          options=chrome_options)\n",
        "driver.get('http://pythonscraping.com/pages/files/form.html')\n",
        "\n",
        "firstnameField = driver.find_element_by_name('firstname')\n",
        "lastnameField = driver.find_element_by_name('lastname')\n",
        "submitButton = driver.find_element_by_id('submit')\n",
        "\n",
        "### METHOD 1 ###\n",
        "firstnameField.send_keys('Ryan')\n",
        "lastnameField.send_keys('Mitchell')\n",
        "submitButton.click()\n",
        "\n",
        "\n",
        "### METHOD 2 ###\n",
        "#actions = ActionChains(driver).click(firstnameField).send_keys('Ryan').click(lastnameField).send_keys('Mitchell').send_keys(Keys.RETURN)\n",
        "#actions.perform()\n",
        "\n",
        "\n",
        "print(driver.find_element_by_tag_name('body').text)\n",
        "\n",
        "driver.close()"
      ],
      "execution_count": 0,
      "outputs": []
    },
    {
      "cell_type": "markdown",
      "metadata": {
        "id": "NI5JBMycykgg",
        "colab_type": "text"
      },
      "source": [
        "###Drag and drop\n",
        "Use its drag-and-drop function requires users to specify a *source* element (the element to be dragged) and either an offset to drag it across, or a target element to drag it to.\n",
        "The demo page is at *http://pythonscraping.com/pages/javascript/draggable-Demo.html*from selenium import webdriver\n",
        "from selenium.webdriver.remote.webelement import WebElement\n",
        "from selenium.webdriver import ActionChains"
      ]
    },
    {
      "cell_type": "code",
      "metadata": {
        "id": "GH_4ShD-zGLd",
        "colab_type": "code",
        "colab": {}
      },
      "source": [
        "from selenium import webdriver\n",
        "from selenium.webdriver.remote.webelement import WebElement\n",
        "from selenium.webdriver import ActionChains"
      ],
      "execution_count": 0,
      "outputs": []
    },
    {
      "cell_type": "code",
      "metadata": {
        "id": "C1T5oWX4zHD6",
        "colab_type": "code",
        "colab": {}
      },
      "source": [
        "driver = webdriver.PhantomJS(executable_path='<Path to Phantom JS>')\n",
        "driver.get('http://pythonscraping.com/pages/javascript/draggableDemo.html')\n",
        "\n",
        "print(driver.find_element_by_id('message').text)\n",
        "\n",
        "element = driver.find_element_by_id('draggable')\n",
        "target = driver.find_element_by_id('div2')\n",
        "actions = ActionChains(driver)\n",
        "actions.drag_and_drop(element, target).perform()\n",
        "\n",
        "print(driver.find_element_by_id('message').text)"
      ],
      "execution_count": 0,
      "outputs": []
    },
    {
      "cell_type": "markdown",
      "metadata": {
        "id": "raMNX94vzoaU",
        "colab_type": "text"
      },
      "source": [
        "Dragging elements to prove user is not a bot is a common theme in many CAPTCHAs."
      ]
    },
    {
      "cell_type": "markdown",
      "metadata": {
        "id": "1QBWdPcXzvEs",
        "colab_type": "text"
      },
      "source": [
        "###Taking screenshots\n",
        "\n",
        "\n",
        "```\n",
        "driver = webdriver.PhantomJS()\n",
        "driver.get('http://www.pythonscraping.com/')\n",
        "driver.get_screenshot_as_file('tmp/pythonscraping.png')\n",
        "```\n",
        "\n",
        "This script navigates to *http://pythonscraping.com* and then stores a screenshot of the\n",
        "home page in the local tmp folder"
      ]
    },
    {
      "cell_type": "markdown",
      "metadata": {
        "id": "YIh6QptubSe5",
        "colab_type": "text"
      },
      "source": [
        "#`unittest` or Selenium\n",
        "Selenium can easily be used to obtain\n",
        "information about a website, and `unittest` can evaluate whether that information\n",
        "meets the criteria for passing the test.\n",
        "\n",
        "For example, the following script creates a unit test for a website’s draggable interface,\n",
        "asserting that it correctly says, “You are not a bot!” after one element has been dragged to another:"
      ]
    },
    {
      "cell_type": "code",
      "metadata": {
        "id": "SuQd__rF0hd2",
        "colab_type": "code",
        "colab": {}
      },
      "source": [
        "from selenium import webdriver\n",
        "from selenium.webdriver.remote.webelement import WebElement\n",
        "from selenium.webdriver import ActionChains\n",
        "import unittest"
      ],
      "execution_count": 0,
      "outputs": []
    },
    {
      "cell_type": "code",
      "metadata": {
        "id": "bAPUl_-T0jiD",
        "colab_type": "code",
        "colab": {}
      },
      "source": [
        "class TestDragAndDrop(unittest.TestCase):\n",
        "  \n",
        "  driver = None\n",
        "  def setUp(self):\n",
        "    self.driver = webdriver.PhantomJS(executable_path='<Path to PhantomJS>')\n",
        "    url = 'http://pythonscraping.com/pages/javascript/draggableDemo.html'\n",
        "    self.driver.get(url)\n",
        "\n",
        "  def tearDown(self):\n",
        "    print(\"Tearing down the test\")\n",
        "\n",
        "  def test_drag(self):\n",
        "    element = self.driver.find_element_by_id('draggable')\n",
        "    target = self.driver.find_element_by_id('div2')\n",
        "    actions = ActionChains(self.driver)\n",
        "    actions.drag_and_drop(element, target).perform()\n",
        "    self.assertEqual('You are definitely not a bot!',self.driver.find_element_by_id('message').text)\n",
        "\n",
        "if __name__ == '__main__':\n",
        "  unittest.main(argv=[''], exit=False)"
      ],
      "execution_count": 0,
      "outputs": []
    },
    {
      "cell_type": "markdown",
      "metadata": {
        "id": "1ij-tesO00Vz",
        "colab_type": "text"
      },
      "source": [
        "Virtually anything on a website can be tested with the combination of Python’s\n",
        "unittest and Selenium."
      ]
    },
    {
      "cell_type": "markdown",
      "metadata": {
        "id": "_u5zOHJHzQEG",
        "colab_type": "text"
      },
      "source": [
        "To run it in Chrome:"
      ]
    },
    {
      "cell_type": "code",
      "metadata": {
        "id": "qlkKrmw7zR-f",
        "colab_type": "code",
        "colab": {}
      },
      "source": [
        "from selenium import webdriver\n",
        "from selenium.webdriver import ActionChains\n",
        "from selenium.webdriver.chrome.options import Options\n",
        "import unittest"
      ],
      "execution_count": 0,
      "outputs": []
    },
    {
      "cell_type": "code",
      "metadata": {
        "id": "lDcv4kIczWz0",
        "colab_type": "code",
        "colab": {}
      },
      "source": [
        "class TestDragAndDrop(unittest.TestCase):\n",
        "    \n",
        "  driver = None\n",
        "  def setUp(self):\n",
        "    chrome_options = Options()\n",
        "    chrome_options.add_argument(\"--headless\")\n",
        "    self.driver = webdriver.Chrome(executable_path='drivers/chromedriver',\n",
        "                                   options=chrome_options)\n",
        "    url = 'http://pythonscraping.com/pages/javascript/draggableDemo.html'\n",
        "    self.driver.get(url)\n",
        "\n",
        "  def tearDown(self):\n",
        "    self.driver.close()\n",
        "\n",
        "  def test_drag(self):\n",
        "    element = self.driver.find_element_by_id('draggable')\n",
        "    target = self.driver.find_element_by_id('div2')\n",
        "    actions = ActionChains(self.driver)\n",
        "    actions.drag_and_drop(element, target).perform()\n",
        "    self.assertEqual('You are definitely not a bot!',\n",
        "                     self.driver.find_element_by_id('message').text)\n",
        "\n",
        "if __name__ == '__main__':\n",
        "  unittest.main(argv=[''], exit=False)\n",
        "  %reset"
      ],
      "execution_count": 0,
      "outputs": []
    }
  ]
}