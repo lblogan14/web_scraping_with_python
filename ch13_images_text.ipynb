{
  "nbformat": 4,
  "nbformat_minor": 0,
  "metadata": {
    "colab": {
      "name": "ch13_images_text.ipynb",
      "version": "0.3.2",
      "provenance": [],
      "collapsed_sections": [],
      "include_colab_link": true
    },
    "kernelspec": {
      "name": "python3",
      "display_name": "Python 3"
    }
  },
  "cells": [
    {
      "cell_type": "markdown",
      "metadata": {
        "id": "view-in-github",
        "colab_type": "text"
      },
      "source": [
        "<a href=\"https://colab.research.google.com/github/lblogan14/web_scraping_with_python/blob/master/ch13_images_text.ipynb\" target=\"_parent\"><img src=\"https://colab.research.google.com/assets/colab-badge.svg\" alt=\"Open In Colab\"/></a>"
      ]
    },
    {
      "cell_type": "code",
      "metadata": {
        "id": "2krnK_ccPHAB",
        "colab_type": "code",
        "colab": {
          "base_uri": "https://localhost:8080/",
          "height": 124
        },
        "outputId": "d990ec94-3904-40c8-974c-908fc2427a4f"
      },
      "source": [
        "from google.colab import drive\n",
        "drive.mount('/content/drive')"
      ],
      "execution_count": 4,
      "outputs": [
        {
          "output_type": "stream",
          "text": [
            "Go to this URL in a browser: https://accounts.google.com/o/oauth2/auth?client_id=947318989803-6bn6qk8qdgf4n4g3pfee6491hc0brc4i.apps.googleusercontent.com&redirect_uri=urn%3Aietf%3Awg%3Aoauth%3A2.0%3Aoob&scope=email%20https%3A%2F%2Fwww.googleapis.com%2Fauth%2Fdocs.test%20https%3A%2F%2Fwww.googleapis.com%2Fauth%2Fdrive%20https%3A%2F%2Fwww.googleapis.com%2Fauth%2Fdrive.photos.readonly%20https%3A%2F%2Fwww.googleapis.com%2Fauth%2Fpeopleapi.readonly&response_type=code\n",
            "\n",
            "Enter your authorization code:\n",
            "··········\n",
            "Mounted at /content/drive\n"
          ],
          "name": "stdout"
        }
      ]
    },
    {
      "cell_type": "code",
      "metadata": {
        "id": "oC0jlWlHPRYV",
        "colab_type": "code",
        "colab": {
          "base_uri": "https://localhost:8080/",
          "height": 35
        },
        "outputId": "0db752ab-5590-4cc7-9541-a53ebd6b9388"
      },
      "source": [
        "%cd /content/drive/My' 'Drive/Colab' 'Notebooks/Web_Scraping_with_Python"
      ],
      "execution_count": 5,
      "outputs": [
        {
          "output_type": "stream",
          "text": [
            "/content/drive/My Drive/Colab Notebooks/Web_Scraping_with_Python\n"
          ],
          "name": "stdout"
        }
      ]
    },
    {
      "cell_type": "markdown",
      "metadata": {
        "id": "5Aqr2_vBtnFy",
        "colab_type": "text"
      },
      "source": [
        "#Overview of Libraries\n",
        "Translating images into text is called *optical character recognition*, or *OCR*. "
      ]
    },
    {
      "cell_type": "markdown",
      "metadata": {
        "id": "6362zXvYtqCA",
        "colab_type": "text"
      },
      "source": [
        "##Pillow\n",
        "Pillow allows you to easily import and manipulate images with a variety of filters, masks, and even pixel-specific transformations. In this chapter, Pillow is used to perform preprocessing on images to make them more machine readable."
      ]
    },
    {
      "cell_type": "markdown",
      "metadata": {
        "id": "8W6bv8DPtreS",
        "colab_type": "text"
      },
      "source": [
        "##Tesseract\n",
        "Tesseract is an OCR library. This chapter uses both the command-line program *Tesseract* along with its third-party Python wrapper *pytesseract*.\n",
        "\n",
        "###Installing Tesseract\n"
      ]
    },
    {
      "cell_type": "code",
      "metadata": {
        "id": "T9DJ4WdPNuux",
        "colab_type": "code",
        "colab": {
          "base_uri": "https://localhost:8080/",
          "height": 89
        },
        "outputId": "83e23315-114f-4f72-a237-2f66dbf7a995"
      },
      "source": [
        "!pip3 install pytesseract"
      ],
      "execution_count": 10,
      "outputs": [
        {
          "output_type": "stream",
          "text": [
            "Requirement already satisfied: pytesseract in /usr/local/lib/python3.6/dist-packages (0.2.7)\n",
            "Requirement already satisfied: Pillow in /usr/local/lib/python3.6/dist-packages (from pytesseract) (4.3.0)\n",
            "Requirement already satisfied: olefile in /usr/local/lib/python3.6/dist-packages (from Pillow->pytesseract) (0.46)\n"
          ],
          "name": "stdout"
        }
      ]
    },
    {
      "cell_type": "code",
      "metadata": {
        "id": "40oRXTc8NYT1",
        "colab_type": "code",
        "colab": {
          "base_uri": "https://localhost:8080/",
          "height": 575
        },
        "outputId": "028925b6-b676-4225-dcab-8ccf445a988f"
      },
      "source": [
        "!apt-get install tesseract-ocr"
      ],
      "execution_count": 16,
      "outputs": [
        {
          "output_type": "stream",
          "text": [
            "Reading package lists... Done\n",
            "Building dependency tree       \n",
            "Reading state information... Done\n",
            "The following package was automatically installed and is no longer required:\n",
            "  libnvidia-common-410\n",
            "Use 'apt autoremove' to remove it.\n",
            "The following additional packages will be installed:\n",
            "  tesseract-ocr-eng tesseract-ocr-osd\n",
            "The following NEW packages will be installed:\n",
            "  tesseract-ocr tesseract-ocr-eng tesseract-ocr-osd\n",
            "0 upgraded, 3 newly installed, 0 to remove and 4 not upgraded.\n",
            "Need to get 4,795 kB of archives.\n",
            "After this operation, 15.8 MB of additional disk space will be used.\n",
            "Get:1 http://archive.ubuntu.com/ubuntu bionic/universe amd64 tesseract-ocr-eng all 4.00~git24-0e00fe6-1.2 [1,588 kB]\n",
            "Get:2 http://archive.ubuntu.com/ubuntu bionic/universe amd64 tesseract-ocr-osd all 4.00~git24-0e00fe6-1.2 [2,989 kB]\n",
            "Get:3 http://archive.ubuntu.com/ubuntu bionic/universe amd64 tesseract-ocr amd64 4.00~git2288-10f4998a-2 [218 kB]\n",
            "Fetched 4,795 kB in 1s (4,331 kB/s)\n",
            "Selecting previously unselected package tesseract-ocr-eng.\n",
            "(Reading database ... 131289 files and directories currently installed.)\n",
            "Preparing to unpack .../tesseract-ocr-eng_4.00~git24-0e00fe6-1.2_all.deb ...\n",
            "Unpacking tesseract-ocr-eng (4.00~git24-0e00fe6-1.2) ...\n",
            "Selecting previously unselected package tesseract-ocr-osd.\n",
            "Preparing to unpack .../tesseract-ocr-osd_4.00~git24-0e00fe6-1.2_all.deb ...\n",
            "Unpacking tesseract-ocr-osd (4.00~git24-0e00fe6-1.2) ...\n",
            "Selecting previously unselected package tesseract-ocr.\n",
            "Preparing to unpack .../tesseract-ocr_4.00~git2288-10f4998a-2_amd64.deb ...\n",
            "Unpacking tesseract-ocr (4.00~git2288-10f4998a-2) ...\n",
            "Setting up tesseract-ocr-osd (4.00~git24-0e00fe6-1.2) ...\n",
            "Setting up tesseract-ocr-eng (4.00~git24-0e00fe6-1.2) ...\n",
            "Processing triggers for man-db (2.8.3-2ubuntu0.1) ...\n",
            "Setting up tesseract-ocr (4.00~git2288-10f4998a-2) ...\n"
          ],
          "name": "stdout"
        }
      ]
    },
    {
      "cell_type": "code",
      "metadata": {
        "id": "uXkw2Y0OPjWY",
        "colab_type": "code",
        "colab": {
          "base_uri": "https://localhost:8080/",
          "height": 35
        },
        "outputId": "cba52a9f-162c-4985-b4f1-0a30b969f291"
      },
      "source": [
        "%cd ./img/ch13/"
      ],
      "execution_count": 6,
      "outputs": [
        {
          "output_type": "stream",
          "text": [
            "/content/drive/My Drive/Colab Notebooks/Web_Scraping_with_Python/img/ch13\n"
          ],
          "name": "stdout"
        }
      ]
    },
    {
      "cell_type": "code",
      "metadata": {
        "id": "Sk05w5nDPu3H",
        "colab_type": "code",
        "colab": {}
      },
      "source": [
        "from PIL import Image\n",
        "import pytesseract"
      ],
      "execution_count": 0,
      "outputs": []
    },
    {
      "cell_type": "code",
      "metadata": {
        "id": "nNi7-LmPP39g",
        "colab_type": "code",
        "colab": {
          "base_uri": "https://localhost:8080/",
          "height": 52
        },
        "outputId": "0f7d3e93-64e4-49a9-c864-a25b7288b16f"
      },
      "source": [
        "print(pytesseract.image_to_string(Image.open('textOriginal.png')))"
      ],
      "execution_count": 19,
      "outputs": [
        {
          "output_type": "stream",
          "text": [
            "This is some text, written in Arial, that will be read by\n",
            "Tesseract. Here are some symbols: !|@#$%&*()\n"
          ],
          "name": "stdout"
        }
      ]
    },
    {
      "cell_type": "markdown",
      "metadata": {
        "id": "EjnkMsisQ91a",
        "colab_type": "text"
      },
      "source": [
        "To point pytesseract to the location by including this line:\n",
        "\n",
        "```\n",
        "pytesseract.pytesseract.tesseract_cmd = '/path/to/tesseract'\n",
        "```\n",
        "\n",
        "Pytesseract can also estimate box files (pixel locations for the boundaries of each character):"
      ]
    },
    {
      "cell_type": "code",
      "metadata": {
        "id": "RXHc7qlEROBI",
        "colab_type": "code",
        "colab": {
          "base_uri": "https://localhost:8080/",
          "height": 1000
        },
        "outputId": "e2fda501-2029-4aa4-82f7-1a291dd00c47"
      },
      "source": [
        "print(pytesseract.image_to_boxes(Image.open('textOriginal.png')))"
      ],
      "execution_count": 21,
      "outputs": [
        {
          "output_type": "stream",
          "text": [
            "T 23 60 29 77 0\n",
            "h 29 60 36 77 0\n",
            "i 40 60 49 77 0\n",
            "s 52 60 66 77 0\n",
            "i 76 60 78 77 0\n",
            "s 81 60 91 73 0\n",
            "s 99 60 109 73 0\n",
            "o 113 60 122 73 0\n",
            "m 125 60 134 73 0\n",
            "e 134 60 142 73 0\n",
            "t 144 60 156 73 0\n",
            "e 166 60 170 77 0\n",
            "x 176 60 182 73 0\n",
            "t 188 60 195 73 0\n",
            ", 196 56 206 77 0\n",
            "w 215 60 225 73 0\n",
            "r 225 60 233 73 0\n",
            "i 235 60 240 73 0\n",
            "t 243 60 252 77 0\n",
            "t 253 60 259 77 0\n",
            "e 260 60 269 73 0\n",
            "n 275 60 281 73 0\n",
            "i 295 60 297 77 0\n",
            "n 300 60 309 73 0\n",
            "A 317 60 325 77 0\n",
            "r 325 60 333 77 0\n",
            "i 335 60 340 73 0\n",
            "a 343 60 353 77 0\n",
            "l 353 60 358 73 0\n",
            ", 361 56 369 77 0\n",
            "t 378 60 384 77 0\n",
            "h 388 60 395 77 0\n",
            "a 399 60 408 73 0\n",
            "t 412 60 418 77 0\n",
            "w 425 60 430 73 0\n",
            "i 430 60 441 73 0\n",
            "l 444 60 451 77 0\n",
            "l 455 60 457 77 0\n",
            "b 467 60 477 77 0\n",
            "e 480 60 491 73 0\n",
            "r 500 60 506 73 0\n",
            "e 511 60 519 73 0\n",
            "a 521 60 532 73 0\n",
            "d 534 60 545 77 0\n",
            "b 555 60 564 77 0\n",
            "y 567 55 578 73 0\n",
            "T 23 31 29 48 0\n",
            "e 29 31 41 48 0\n",
            "s 41 31 46 44 0\n",
            "s 52 31 59 44 0\n",
            "e 64 31 71 44 0\n",
            "r 76 31 84 44 0\n",
            "a 87 31 93 44 0\n",
            "c 99 31 105 44 0\n",
            "t 109 31 118 44 0\n",
            ". 121 31 130 48 0\n",
            "H 140 31 153 48 0\n",
            "e 156 31 163 44 0\n",
            "r 171 31 175 44 0\n",
            "e 178 31 189 44 0\n",
            "a 198 31 209 44 0\n",
            "r 212 31 218 44 0\n",
            "e 220 31 230 44 0\n",
            "s 239 31 249 44 0\n",
            "o 254 31 262 44 0\n",
            "m 265 31 274 44 0\n",
            "e 284 31 295 44 0\n",
            "s 304 31 311 44 0\n",
            "y 316 26 326 44 0\n",
            "m 326 26 327 44 0\n",
            "b 336 31 346 44 0\n",
            "o 349 31 360 48 0\n",
            "l 362 31 371 44 0\n",
            "s 376 31 378 48 0\n",
            ": 383 31 396 44 0\n",
            "! 407 31 410 48 0\n",
            "| 413 26 417 48 0\n",
            "@ 417 26 429 48 0\n",
            "# 436 31 445 48 0\n",
            "$ 450 29 459 49 0\n",
            "% 464 31 481 48 0\n",
            "& 485 31 504 48 0\n",
            "* 512 41 516 48 0\n",
            "( 516 41 519 48 0\n",
            ") 524 26 536 48 0\n"
          ],
          "name": "stdout"
        }
      ]
    },
    {
      "cell_type": "markdown",
      "metadata": {
        "id": "oQYL_MeyRYFz",
        "colab_type": "text"
      },
      "source": [
        "It can also return a complete output of all data, such as confidence scores, page and\n",
        "line numbers, box data, as well as other information:"
      ]
    },
    {
      "cell_type": "code",
      "metadata": {
        "id": "tL1g8PfbRatw",
        "colab_type": "code",
        "colab": {
          "base_uri": "https://localhost:8080/",
          "height": 453
        },
        "outputId": "427f08c3-64dd-401e-aaa0-4e416a493c08"
      },
      "source": [
        "print(pytesseract.image_to_data(Image.open('textOriginal.png')))"
      ],
      "execution_count": 22,
      "outputs": [
        {
          "output_type": "stream",
          "text": [
            "level\tpage_num\tblock_num\tpar_num\tline_num\tword_num\tleft\ttop\twidth\theight\tconf\ttext\n",
            "1\t1\t0\t0\t0\t0\t0\t0\t600\t103\t-1\t\n",
            "2\t1\t1\t0\t0\t0\t23\t26\t555\t51\t-1\t\n",
            "3\t1\t1\t1\t0\t0\t23\t26\t555\t51\t-1\t\n",
            "4\t1\t1\t1\t1\t0\t23\t26\t555\t22\t-1\t\n",
            "5\t1\t1\t1\t1\t1\t23\t26\t44\t17\t96\tThis\n",
            "5\t1\t1\t1\t1\t2\t76\t26\t15\t17\t96\tis\n",
            "5\t1\t1\t1\t1\t3\t99\t30\t43\t13\t96\tsome\n",
            "5\t1\t1\t1\t1\t4\t144\t26\t62\t21\t96\ttext,\n",
            "5\t1\t1\t1\t1\t5\t215\t26\t70\t17\t96\twritten\n",
            "5\t1\t1\t1\t1\t6\t295\t26\t15\t17\t96\tin\n",
            "5\t1\t1\t1\t1\t7\t317\t26\t52\t21\t96\tArial,\n",
            "5\t1\t1\t1\t1\t8\t378\t26\t40\t17\t96\tthat\n",
            "5\t1\t1\t1\t1\t9\t425\t26\t32\t17\t96\twill\n",
            "5\t1\t1\t1\t1\t10\t467\t26\t24\t17\t96\tbe\n",
            "5\t1\t1\t1\t1\t11\t500\t26\t45\t17\t96\tread\n",
            "5\t1\t1\t1\t1\t12\t555\t26\t23\t22\t96\tby\n",
            "4\t1\t1\t1\t2\t0\t23\t54\t513\t23\t-1\t\n",
            "5\t1\t1\t1\t2\t1\t23\t55\t107\t17\t96\tTesseract.\n",
            "5\t1\t1\t1\t2\t2\t140\t55\t49\t17\t96\tHere\n",
            "5\t1\t1\t1\t2\t3\t198\t59\t32\t13\t96\tare\n",
            "5\t1\t1\t1\t2\t4\t239\t59\t57\t13\t96\tsome\n",
            "5\t1\t1\t1\t2\t5\t304\t55\t92\t22\t90\tsymbols:\n",
            "5\t1\t1\t1\t2\t6\t407\t54\t129\t23\t64\t!|@#$%&*()\n"
          ],
          "name": "stdout"
        }
      ]
    },
    {
      "cell_type": "markdown",
      "metadata": {
        "id": "JmkYodERRkzh",
        "colab_type": "text"
      },
      "source": [
        "The default output for these last two files is as space- or tab-delimited string files, but it can also be used to get output as dictionaries or byte strings:"
      ]
    },
    {
      "cell_type": "code",
      "metadata": {
        "id": "FfXdnwaPRlSx",
        "colab_type": "code",
        "colab": {}
      },
      "source": [
        "from pytesseract import Output"
      ],
      "execution_count": 0,
      "outputs": []
    },
    {
      "cell_type": "code",
      "metadata": {
        "id": "_WRkN1VIRxDp",
        "colab_type": "code",
        "colab": {
          "base_uri": "https://localhost:8080/",
          "height": 55
        },
        "outputId": "923eb520-9c72-4d0f-b277-3a9c44afcf8b"
      },
      "source": [
        "print(pytesseract.image_to_data(Image.open('textOriginal.png'),\n",
        "                                output_type = Output.DICT))"
      ],
      "execution_count": 25,
      "outputs": [
        {
          "output_type": "stream",
          "text": [
            "{'level': [1, 2, 3, 4, 5, 5, 5, 5, 5, 5, 5, 5, 5, 5, 5, 5, 4, 5, 5, 5, 5, 5, 5], 'page_num': [1, 1, 1, 1, 1, 1, 1, 1, 1, 1, 1, 1, 1, 1, 1, 1, 1, 1, 1, 1, 1, 1, 1], 'block_num': [0, 1, 1, 1, 1, 1, 1, 1, 1, 1, 1, 1, 1, 1, 1, 1, 1, 1, 1, 1, 1, 1, 1], 'par_num': [0, 0, 1, 1, 1, 1, 1, 1, 1, 1, 1, 1, 1, 1, 1, 1, 1, 1, 1, 1, 1, 1, 1], 'line_num': [0, 0, 0, 1, 1, 1, 1, 1, 1, 1, 1, 1, 1, 1, 1, 1, 2, 2, 2, 2, 2, 2, 2], 'word_num': [0, 0, 0, 0, 1, 2, 3, 4, 5, 6, 7, 8, 9, 10, 11, 12, 0, 1, 2, 3, 4, 5, 6], 'left': [0, 23, 23, 23, 23, 76, 99, 144, 215, 295, 317, 378, 425, 467, 500, 555, 23, 23, 140, 198, 239, 304, 407], 'top': [0, 26, 26, 26, 26, 26, 30, 26, 26, 26, 26, 26, 26, 26, 26, 26, 54, 55, 55, 59, 59, 55, 54], 'width': [600, 555, 555, 555, 44, 15, 43, 62, 70, 15, 52, 40, 32, 24, 45, 23, 513, 107, 49, 32, 57, 92, 129], 'height': [103, 51, 51, 22, 17, 17, 13, 21, 17, 17, 21, 17, 17, 17, 17, 22, 23, 17, 17, 13, 13, 22, 23], 'conf': ['-1', '-1', '-1', '-1', 96, 96, 96, 96, 96, 96, 96, 96, 96, 96, 96, 96, '-1', 96, 96, 96, 96, 90, 64], 'text': ['', '', '', '', 'This', 'is', 'some', 'text,', 'written', 'in', 'Arial,', 'that', 'will', 'be', 'read', 'by', '', 'Tesseract.', 'Here', 'are', 'some', 'symbols:', '!|@#$%&*()']}\n"
          ],
          "name": "stdout"
        }
      ]
    },
    {
      "cell_type": "code",
      "metadata": {
        "id": "ruN_45zYR6-u",
        "colab_type": "code",
        "colab": {
          "base_uri": "https://localhost:8080/",
          "height": 55
        },
        "outputId": "816d2cac-1287-4905-8c79-4f3e3aa5ad86"
      },
      "source": [
        "print(pytesseract.image_to_string(Image.open('textOriginal.png'),\n",
        "                                  output_type = Output.BYTES))"
      ],
      "execution_count": 26,
      "outputs": [
        {
          "output_type": "stream",
          "text": [
            "b'This is some text, written in Arial, that will be read by\\nTesseract. Here are some symbols: !|@#$%&*()\\n\\x0c'\n"
          ],
          "name": "stdout"
        }
      ]
    },
    {
      "cell_type": "markdown",
      "metadata": {
        "id": "yYygX_9cttT0",
        "colab_type": "text"
      },
      "source": [
        "##NumPy\n",
        "Standard Python library"
      ]
    },
    {
      "cell_type": "markdown",
      "metadata": {
        "id": "dDcW3w9KtvG-",
        "colab_type": "text"
      },
      "source": [
        "#Processing Well-Formatted Text\n",
        "To run Tesseract from the command line to read this file and write the results to a text file:"
      ]
    },
    {
      "cell_type": "code",
      "metadata": {
        "id": "tOrsnHpnSvu1",
        "colab_type": "code",
        "colab": {
          "base_uri": "https://localhost:8080/",
          "height": 69
        },
        "outputId": "dc08a8d2-ff45-46f2-e6b9-d6cbea4ba91f"
      },
      "source": [
        "!tesseract textOriginal.png textoutput | cat textoutput.txt"
      ],
      "execution_count": 29,
      "outputs": [
        {
          "output_type": "stream",
          "text": [
            "This is some text, written in Arial, that will be read by\n",
            "Tesseract. Here are some symbols: !|@#$%&*()\n",
            "\fTesseract Open Source OCR Engine v4.0.0-beta.1 with Leptonica\n"
          ],
          "name": "stdout"
        }
      ]
    },
    {
      "cell_type": "markdown",
      "metadata": {
        "id": "hGmdw79vTHmW",
        "colab_type": "text"
      },
      "source": [
        "The result is almost accurate...\n",
        "![](https://github.com/lblogan14/web_scraping_with_python/blob/master/img/ch13/textOriginal.png?raw=true)\n",
        "\n",
        "For a blurred image below, the result could be worse:\n",
        "![](https://github.com/lblogan14/web_scraping_with_python/blob/master/img/ch13/textBad.png?raw=true)"
      ]
    },
    {
      "cell_type": "code",
      "metadata": {
        "id": "snU24zlSThjP",
        "colab_type": "code",
        "colab": {
          "base_uri": "https://localhost:8080/",
          "height": 69
        },
        "outputId": "c310daf6-db55-4124-a84c-3c704e2800dd"
      },
      "source": [
        "!tesseract textBad.png textoutput | cat textoutput.txt"
      ],
      "execution_count": 30,
      "outputs": [
        {
          "output_type": "stream",
          "text": [
            "This is some text, written in Arial, that will be read by\n",
            "Tesseract. Here are some symbols: !|@#$%&*()\n",
            "\fTesseract Open Source OCR Engine v4.0.0-beta.1 with Leptonica\n"
          ],
          "name": "stdout"
        }
      ]
    },
    {
      "cell_type": "markdown",
      "metadata": {
        "id": "1Z1v6u7LTylE",
        "colab_type": "text"
      },
      "source": [
        "To clean the images, try the following script:"
      ]
    },
    {
      "cell_type": "code",
      "metadata": {
        "id": "soJNdcN5T5P2",
        "colab_type": "code",
        "colab": {}
      },
      "source": [
        "from PIL import Image\n",
        "import pytesseract"
      ],
      "execution_count": 0,
      "outputs": []
    },
    {
      "cell_type": "code",
      "metadata": {
        "id": "PWN1hWX9T8fy",
        "colab_type": "code",
        "colab": {}
      },
      "source": [
        "def cleanFile(filePath, newFilePath):\n",
        "  image = Image.open(filePath)\n",
        "  \n",
        "  #Set a threshold value for the image, and save\n",
        "  image = image.point(lambda x: 0 if x<143 else 255)\n",
        "  image.save(newFilePath)\n",
        "  return image"
      ],
      "execution_count": 0,
      "outputs": []
    },
    {
      "cell_type": "code",
      "metadata": {
        "id": "E1Mz_KflULux",
        "colab_type": "code",
        "colab": {}
      },
      "source": [
        "image = cleanFile('./textBad.png', './textCleaned.png')"
      ],
      "execution_count": 0,
      "outputs": []
    },
    {
      "cell_type": "code",
      "metadata": {
        "id": "Na_oUXxEUZ7U",
        "colab_type": "code",
        "colab": {
          "base_uri": "https://localhost:8080/",
          "height": 52
        },
        "outputId": "aa70482a-2cfb-4719-c9f3-4260a467db0a"
      },
      "source": [
        "print(pytesseract.image_to_string(image))"
      ],
      "execution_count": 36,
      "outputs": [
        {
          "output_type": "stream",
          "text": [
            "This 1s some text, written in Arial, that will be read by\n",
            "Tesseract Here are some symbols: |@#$%*&\"(}\n"
          ],
          "name": "stdout"
        }
      ]
    },
    {
      "cell_type": "markdown",
      "metadata": {
        "id": "6e5V5DAztxxs",
        "colab_type": "text"
      },
      "source": [
        "##Adjusting Images Automatically"
      ]
    },
    {
      "cell_type": "markdown",
      "metadata": {
        "id": "n7vCmZOLUpz-",
        "colab_type": "text"
      },
      "source": [
        "To run Tesseract against a range of images adjusted to different values and algorithmically choose the one with the best result, as measured by some combination of the number of characters and/or strings Tesseract is able to read, and the “confidence” that it reads those characters with."
      ]
    },
    {
      "cell_type": "code",
      "metadata": {
        "id": "v8DBWkspU4ta",
        "colab_type": "code",
        "colab": {}
      },
      "source": [
        "import pytesseract\n",
        "from pytesseract import Output\n",
        "from PIL import Image\n",
        "import numpy as np"
      ],
      "execution_count": 0,
      "outputs": []
    },
    {
      "cell_type": "code",
      "metadata": {
        "id": "unEfRinIVEhU",
        "colab_type": "code",
        "colab": {}
      },
      "source": [
        "def cleanFile(filePath, threshold):\n",
        "  image = Image.open(filePath)\n",
        "  \n",
        "  #Set a threshold value for the image, and save\n",
        "  image = image.point(lambda x: 0 if x<threshold else 255)\n",
        "  return image"
      ],
      "execution_count": 0,
      "outputs": []
    },
    {
      "cell_type": "code",
      "metadata": {
        "id": "er3tzgwZVKf0",
        "colab_type": "code",
        "colab": {}
      },
      "source": [
        "def getConfidence(image):\n",
        "  data = pytesseract.image_to_data(image, output_type=Output.DICT)\n",
        "  text = data['text']\n",
        "  confidences = []\n",
        "  numChars = []\n",
        "  \n",
        "  for i in range(len(text)):\n",
        "    if list(map(int,data['conf']))[i] > -1:\n",
        "      confidences.append(data['conf'][i])\n",
        "      numChars.append(len(text[i]))\n",
        "      \n",
        "  return np.average(confidences, weights=numChars), sum(numChars)"
      ],
      "execution_count": 0,
      "outputs": []
    },
    {
      "cell_type": "code",
      "metadata": {
        "id": "vQx-c7v_W0_D",
        "colab_type": "code",
        "colab": {
          "base_uri": "https://localhost:8080/",
          "height": 433
        },
        "outputId": "962247ac-a267-4832-89fc-c1a33bdce7a2"
      },
      "source": [
        "filePath = './textBad.png'\n",
        "\n",
        "start = 80\n",
        "step = 5\n",
        "end = 200\n",
        "\n",
        "for threshold in range(start, end, step):\n",
        "  image = cleanFile(filePath, threshold)\n",
        "  scores = getConfidence(image)\n",
        "  print('threshold: {}, confidence: {}, numChars {}'.format(str(threshold), \n",
        "                                                            str(scores[0]), \n",
        "                                                            str(scores[1])))"
      ],
      "execution_count": 61,
      "outputs": [
        {
          "output_type": "stream",
          "text": [
            "threshold: 80, confidence: 36.10526315789474, numChars 19\n",
            "threshold: 85, confidence: 62.333333333333336, numChars 24\n",
            "threshold: 90, confidence: 49.25, numChars 36\n",
            "threshold: 95, confidence: 39.7, numChars 40\n",
            "threshold: 100, confidence: 49.98360655737705, numChars 61\n",
            "threshold: 105, confidence: 48.83098591549296, numChars 71\n",
            "threshold: 110, confidence: 73.87654320987654, numChars 81\n",
            "threshold: 115, confidence: 73.6219512195122, numChars 82\n",
            "threshold: 120, confidence: 77.06024096385542, numChars 83\n",
            "threshold: 125, confidence: 83.61904761904762, numChars 84\n",
            "threshold: 130, confidence: 75.04761904761905, numChars 84\n",
            "threshold: 135, confidence: 82.42168674698796, numChars 83\n",
            "threshold: 140, confidence: 81.76190476190476, numChars 84\n",
            "threshold: 145, confidence: 85.51190476190476, numChars 84\n",
            "threshold: 150, confidence: 82.3132530120482, numChars 83\n",
            "threshold: 155, confidence: 87.9873417721519, numChars 79\n",
            "threshold: 160, confidence: 85.8875, numChars 80\n",
            "threshold: 165, confidence: 86.1, numChars 70\n",
            "threshold: 170, confidence: 93.63380281690141, numChars 71\n",
            "threshold: 175, confidence: 94.68656716417911, numChars 67\n",
            "threshold: 180, confidence: 93.26470588235294, numChars 68\n",
            "threshold: 185, confidence: 88.63492063492063, numChars 63\n",
            "threshold: 190, confidence: 92.5, numChars 64\n",
            "threshold: 195, confidence: 92.3970588235294, numChars 68\n"
          ],
          "name": "stdout"
        }
      ]
    },
    {
      "cell_type": "markdown",
      "metadata": {
        "id": "OClWWqBxYP7_",
        "colab_type": "text"
      },
      "source": [
        "Threshold of 145 gives the maximum number of recognized characters and the highest confidence for those found characters."
      ]
    },
    {
      "cell_type": "markdown",
      "metadata": {
        "id": "De3EYXpUt1kE",
        "colab_type": "text"
      },
      "source": [
        "##Scraping Text from Images on Websites\n",
        "The following script navigates to the large-print edition of Tolstoy's The Death of Ivan Ilyich, opens the reader, collects image URLs, and then\n",
        "systematically downloads, reads, and prints the text from each one.\n",
        "\n",
        "Note that this code depends on a live Amazon listing as well as several architectural\n",
        "features of the Amazon website to run correctly."
      ]
    },
    {
      "cell_type": "code",
      "metadata": {
        "id": "G0pGIM4va2yy",
        "colab_type": "code",
        "colab": {
          "base_uri": "https://localhost:8080/",
          "height": 141
        },
        "outputId": "e99be6db-9201-4fe4-d1bf-9e3b1f70be7b"
      },
      "source": [
        "!pip3 install selenium"
      ],
      "execution_count": 63,
      "outputs": [
        {
          "output_type": "stream",
          "text": [
            "Collecting selenium\n",
            "\u001b[?25l  Downloading https://files.pythonhosted.org/packages/80/d6/4294f0b4bce4de0abf13e17190289f9d0613b0a44e5dd6a7f5ca98459853/selenium-3.141.0-py2.py3-none-any.whl (904kB)\n",
            "\u001b[K     |████████████████████████████████| 911kB 2.8MB/s \n",
            "\u001b[?25hRequirement already satisfied: urllib3 in /usr/local/lib/python3.6/dist-packages (from selenium) (1.24.3)\n",
            "Installing collected packages: selenium\n",
            "Successfully installed selenium-3.141.0\n"
          ],
          "name": "stdout"
        }
      ]
    },
    {
      "cell_type": "code",
      "metadata": {
        "id": "KUv-DTLJZaeN",
        "colab_type": "code",
        "colab": {}
      },
      "source": [
        "import time\n",
        "from urllib.request import urlretrieve\n",
        "from PIL import Image\n",
        "import pytesseract\n",
        "from selenium import webdriver\n",
        "from PIL import Image"
      ],
      "execution_count": 0,
      "outputs": []
    },
    {
      "cell_type": "code",
      "metadata": {
        "id": "H7jtdw_iZjM6",
        "colab_type": "code",
        "colab": {}
      },
      "source": [
        "#Create new Selenium driver\n",
        "driver = webdriver.Chrome(executable_path='drivers/chromedriver/chromedriver')\n",
        "\n",
        "driver.get('https://www.amazon.com/Death-Ivan_Ilyich-Nikolayevich-Tolstoy/dp/1427027277')\n",
        "time.sleep(2)\n",
        "\n",
        "#Click on the book preview button\n",
        "driver.find_element_by_id('imgBlkFront').click()\n",
        "imageList = []\n",
        "\n",
        "#Wait for the page to load\n",
        "time.sleep(5)\n",
        "\n",
        "while 'pointer' in driver.find_element_by_id('siteReaderRightPageTurner').get_attribute('style'):\n",
        "  #While the right arrow is available for clicking, turn through pages\n",
        "  driver.find_element_by_id('siteReaderRightPageTurner').click()\n",
        "  time.sleep(2)\n",
        "  #Get any new pages that have loaded (multiple pages can load at once,\n",
        "  #but duplicates will not be added to a set)\n",
        "  pages = driver.find_elements_by_xpath('//div[@class=\\'pageImage\\']/div/img')\n",
        "  if not len(pages):\n",
        "    print('No pages found')\n",
        "  for page in pages:\n",
        "    image = page.get_attribute('src')\n",
        "    print('Found image: {}'.format(image))\n",
        "    if image not in imageList:\n",
        "      urlretrieve(image, 'page.jpg')\n",
        "      imageList.append(image)\n",
        "      print(pytesseract.image_to_string(Image.open('page.jpg')))\n",
        "      \n",
        "driver.quit()"
      ],
      "execution_count": 0,
      "outputs": []
    }
  ]
}