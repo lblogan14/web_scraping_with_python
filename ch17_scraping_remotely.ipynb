{
  "nbformat": 4,
  "nbformat_minor": 0,
  "metadata": {
    "colab": {
      "name": "ch17_scraping_remotely.ipynb",
      "version": "0.3.2",
      "provenance": [],
      "collapsed_sections": [],
      "include_colab_link": true
    },
    "kernelspec": {
      "name": "python3",
      "display_name": "Python 3"
    }
  },
  "cells": [
    {
      "cell_type": "markdown",
      "metadata": {
        "id": "view-in-github",
        "colab_type": "text"
      },
      "source": [
        "<a href=\"https://colab.research.google.com/github/lblogan14/web_scraping_with_python/blob/master/ch17_scraping_remotely.ipynb\" target=\"_parent\"><img src=\"https://colab.research.google.com/assets/colab-badge.svg\" alt=\"Open In Colab\"/></a>"
      ]
    },
    {
      "cell_type": "markdown",
      "metadata": {
        "id": "DPE8K3l_ENFR",
        "colab_type": "text"
      },
      "source": [
        "#Use Remote Server\n",
        "Two primary motivations: the need for greater power and flexibility and the need to use an alternative IP address"
      ]
    },
    {
      "cell_type": "markdown",
      "metadata": {
        "id": "P2Ba5kW1ERUt",
        "colab_type": "text"
      },
      "source": [
        "##Avoiding IP Address Blocking\n",
        "The one thing that cannot be faked is the IP address."
      ]
    },
    {
      "cell_type": "markdown",
      "metadata": {
        "id": "3JliFYXWEUIK",
        "colab_type": "text"
      },
      "source": [
        "##Portability and Extensibility"
      ]
    },
    {
      "cell_type": "markdown",
      "metadata": {
        "id": "Xy80jl7lEWqV",
        "colab_type": "text"
      },
      "source": [
        "#Tor\n",
        "The onion Router network, *Tor*, is a network of volunteer servers set up to route and re-route traffic through many layers of different servers in order to obscure its origin. Data is encrypted before it enters the network so that if any particular server is eavesdropped on, the nature of the communication cannot be revealed. In addition, although the inbound and outbound communications of any particular server can be compromised, one would\n",
        "need to know the details of inbound and outbound communication for all the servers along the path of communication in order to decipher the true start and endpoints of a communication—a near-impossible feat."
      ]
    },
    {
      "cell_type": "markdown",
      "metadata": {
        "id": "aAbKwx6IHCtv",
        "colab_type": "text"
      },
      "source": [
        "Although you can assume when using Tor that the IP address you\n",
        "are coming from, according to a web server, is not an IP address\n",
        "that can be traced back to you, any information you share with that\n",
        "web server might expose you. Logging into Tor is not an automatic invisibility cloak, nor does it give you free reign to do as you please on the internet. Although it is a useful tool, be sure to use it with caution, intelligence, and, morality."
      ]
    },
    {
      "cell_type": "markdown",
      "metadata": {
        "id": "Fs6w_v9AEb-4",
        "colab_type": "text"
      },
      "source": [
        "##PySocks\n",
        "PySocks is a simple Python module that is capable of routing traffic through proxiy servers and that works in conjunction with Tor."
      ]
    },
    {
      "cell_type": "code",
      "metadata": {
        "id": "a7Ly0zFAHhY7",
        "colab_type": "code",
        "colab": {
          "base_uri": "https://localhost:8080/",
          "height": 55
        },
        "outputId": "17415c87-c7d5-48a2-e28b-22fddb031f75"
      },
      "source": [
        "!pip3 install pysocks"
      ],
      "execution_count": 1,
      "outputs": [
        {
          "output_type": "stream",
          "text": [
            "Requirement already satisfied: pysocks in /usr/local/lib/python3.6/dist-packages (1.7.0)\n"
          ],
          "name": "stdout"
        }
      ]
    },
    {
      "cell_type": "code",
      "metadata": {
        "id": "tLltk-hsHuwP",
        "colab_type": "code",
        "colab": {}
      },
      "source": [
        "import socks\n",
        "import socket\n",
        "from urllib.request import urlopen"
      ],
      "execution_count": 0,
      "outputs": []
    },
    {
      "cell_type": "code",
      "metadata": {
        "id": "6Czt3OTmHzhF",
        "colab_type": "code",
        "colab": {}
      },
      "source": [
        "#Must have the TOR service running on port 9150 while running this\n",
        "socks.set_default_proxy(socks.SOCKS5, 'localhost', 9150)\n",
        "socket.socket = socks.socksocket\n",
        "print(urlopen('http://icanhazip.com').read())"
      ],
      "execution_count": 0,
      "outputs": []
    },
    {
      "cell_type": "markdown",
      "metadata": {
        "id": "wCh2sfqEIRRQ",
        "colab_type": "text"
      },
      "source": [
        "Users do not need PySocks to use Selenium and PhantomJS with Tor:"
      ]
    },
    {
      "cell_type": "code",
      "metadata": {
        "id": "LLlJBSw0IYa6",
        "colab_type": "code",
        "colab": {}
      },
      "source": [
        "from selenium import webdriver\n",
        "service_args = [ '--proxy=localhost:9150', '--proxy-type=socks5', ]\n",
        "driver = webdriver.PhantomJS(executable_path='<path to PhantomJS>',\n",
        "                             service_args=service_args)\n",
        "driver.get('http://icanhazip.com')\n",
        "print(driver.page_source)\n",
        "driver.close()"
      ],
      "execution_count": 0,
      "outputs": []
    },
    {
      "cell_type": "markdown",
      "metadata": {
        "id": "DoijNxqlIjis",
        "colab_type": "text"
      },
      "source": [
        "To run it over Chrome brower,"
      ]
    },
    {
      "cell_type": "code",
      "metadata": {
        "id": "kYUc_0vKIm57",
        "colab_type": "code",
        "colab": {}
      },
      "source": [
        "from selenium import webdriver\n",
        "from selenium.webdriver.chrome.options import Options\n",
        "\n",
        "chrome_options = Options()\n",
        "chrome_options.add_argument(\"--headless\")\n",
        "chrome_options.add_argument(\"--proxy-server=socks5://127.0.0.1:9150\")\n",
        "driver = webdriver.Chrome(executable_path='drivers/chromedriver', \n",
        "                          options=chrome_options)\n",
        "\n",
        "driver.get('http://icanhazip.com')\n",
        "print(driver.page_source)\n",
        "driver.close()"
      ],
      "execution_count": 0,
      "outputs": []
    },
    {
      "cell_type": "markdown",
      "metadata": {
        "id": "ZwiVkkF-ItRs",
        "colab_type": "text"
      },
      "source": [
        "All of these should print out an IP address that is the one that the running Tor client is currently using."
      ]
    },
    {
      "cell_type": "markdown",
      "metadata": {
        "id": "mXU7Bha4Emgc",
        "colab_type": "text"
      },
      "source": [
        "#Additional Resources\n",
        "*Google Compute Engine* by Marc Cohen, Kathryn Hurley, and Paul Newson is a straightforward resource on using Google Cloud Computing with both Python and JavaScript.\n",
        "\n",
        "*Python and AWS Cookbook* by Mitch Garnaat is a brief but extremely useful guide that will get you started with Amazon Web Services and show you how to get a scalable application up and running."
      ]
    },
    {
      "cell_type": "markdown",
      "metadata": {
        "id": "xuDLOGANJ6NB",
        "colab_type": "text"
      },
      "source": [
        "#robots.txt\n",
        "If a website is publicly accessible, the webmaster’s right to declare what software can and cannot access it is debatable.\n",
        "\n",
        "If you go to just about any large website and look for its robots.txt file, you will find it in the root web folder: http://website.com/robots.txt."
      ]
    }
  ]
}