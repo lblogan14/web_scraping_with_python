{
  "nbformat": 4,
  "nbformat_minor": 0,
  "metadata": {
    "colab": {
      "name": "ch2_adv_html_parsing.ipynb",
      "version": "0.3.2",
      "provenance": [],
      "collapsed_sections": [],
      "include_colab_link": true
    },
    "kernelspec": {
      "name": "python3",
      "display_name": "Python 3"
    }
  },
  "cells": [
    {
      "cell_type": "markdown",
      "metadata": {
        "id": "view-in-github",
        "colab_type": "text"
      },
      "source": [
        "<a href=\"https://colab.research.google.com/github/lblogan14/web_scraping_with_python/blob/master/ch2_adv_html_parsing.ipynb\" target=\"_parent\"><img src=\"https://colab.research.google.com/assets/colab-badge.svg\" alt=\"Open In Colab\"/></a>"
      ]
    },
    {
      "cell_type": "markdown",
      "metadata": {
        "id": "v0lvy04OQTfa",
        "colab_type": "text"
      },
      "source": [
        "#Another Serving of BeautifulSoup\n",
        "CSS relies on the differentiation of HTML elements that might have the exact same markup in order to style them differently. Because\n",
        "CSS relies on these identifying attributes to style sites appropriately, it is almost guaranteed that the class and ID attributes will be plentiful on most modern websites. \\\\\n",
        "The [example](http://www.pythonscraping.com/pages/warandpeace.html) page composes lines with different colors. \\\\"
      ]
    },
    {
      "cell_type": "markdown",
      "metadata": {
        "id": "8q4gFC0xSKm5",
        "colab_type": "text"
      },
      "source": [
        "Create a `BeautifulSoup` object to grab the entire page:"
      ]
    },
    {
      "cell_type": "code",
      "metadata": {
        "id": "aijjgR3ORYPM",
        "colab_type": "code",
        "colab": {}
      },
      "source": [
        "from urllib.request import urlopen\n",
        "from bs4 import BeautifulSoup"
      ],
      "execution_count": 0,
      "outputs": []
    },
    {
      "cell_type": "code",
      "metadata": {
        "id": "IWhtgZGMRctr",
        "colab_type": "code",
        "colab": {}
      },
      "source": [
        "html = urlopen('http://www.pythonscraping.com/pages/warandpeace.html')\n",
        "bs = BeautifulSoup(html, 'html.parser')"
      ],
      "execution_count": 0,
      "outputs": []
    },
    {
      "cell_type": "code",
      "metadata": {
        "id": "CeCfborXRqvo",
        "colab_type": "code",
        "colab": {
          "base_uri": "https://localhost:8080/",
          "height": 1000
        },
        "outputId": "8b776670-1420-4439-9df8-82051ca7d293"
      },
      "source": [
        "print(bs)"
      ],
      "execution_count": 5,
      "outputs": [
        {
          "output_type": "stream",
          "text": [
            "<html>\n",
            "<head>\n",
            "<style>\n",
            ".green{\n",
            "\tcolor:#55ff55;\n",
            "}\n",
            ".red{\n",
            "\tcolor:#ff5555;\n",
            "}\n",
            "#text{\n",
            "\twidth:50%;\n",
            "}\n",
            "</style>\n",
            "</head>\n",
            "<body>\n",
            "<h1>War and Peace</h1>\n",
            "<h2>Chapter 1</h2>\n",
            "<div id=\"text\">\n",
            "\"<span class=\"red\">Well, Prince, so Genoa and Lucca are now just family estates of the\n",
            "Buonapartes. But I warn you, if you don't tell me that this means war,\n",
            "if you still try to defend the infamies and horrors perpetrated by\n",
            "that Antichrist- I really believe he is Antichrist- I will have\n",
            "nothing more to do with you and you are no longer my friend, no longer\n",
            "my 'faithful slave,' as you call yourself! But how do you do? I see\n",
            "I have frightened you- sit down and tell me all the news.</span>\"\n",
            "<p></p>\n",
            "It was in July, 1805, and the speaker was the well-known <span class=\"green\">Anna\n",
            "Pavlovna Scherer</span>, maid of honor and favorite of the <span class=\"green\">Empress Marya\n",
            "Fedorovna</span>. With these words she greeted <span class=\"green\">Prince Vasili Kuragin</span>, a man\n",
            "of high rank and importance, who was the first to arrive at her\n",
            "reception. <span class=\"green\">Anna Pavlovna</span> had had a cough for some days. She was, as\n",
            "she said, suffering from la grippe; grippe being then a new word in\n",
            "<span class=\"green\">St. Petersburg</span>, used only by the elite.\n",
            "<p></p>\n",
            "All her invitations without exception, written in French, and\n",
            "delivered by a scarlet-liveried footman that morning, ran as follows:\n",
            "<p></p>\n",
            "\"<span class=\"red\">If you have nothing better to do, Count [or Prince], and if the\n",
            "prospect of spending an evening with a poor invalid is not too\n",
            "terrible, I shall be very charmed to see you tonight between 7 and 10-\n",
            "Annette Scherer.</span>\"\n",
            "<p></p>\n",
            "\"<span class=\"red\">Heavens! what a virulent attack!</span>\" replied <span class=\"green\">the prince</span>, not in the\n",
            "least disconcerted by this reception. He had just entered, wearing\n",
            "an embroidered court uniform, knee breeches, and shoes, and had\n",
            "stars on his breast and a serene expression on his flat face. He spoke\n",
            "in that refined French in which our grandfathers not only spoke but\n",
            "thought, and with the gentle, patronizing intonation natural to a\n",
            "man of importance who had grown old in society and at court. He went\n",
            "up to <span class=\"green\">Anna Pavlovna</span>, kissed her hand, presenting to her his bald,\n",
            "scented, and shining head, and complacently seated himself on the\n",
            "sofa.\n",
            "<p></p>\n",
            "\"<span class=\"red\">First of all, dear friend, tell me how you are. Set your friend's\n",
            "mind at rest,</span>\" said he without altering his tone, beneath the\n",
            "politeness and affected sympathy of which indifference and even\n",
            "irony could be discerned.\n",
            "<p></p>\n",
            "\"<span class=\"red\">Can one be well while suffering morally? Can one be calm in times\n",
            "like these if one has any feeling?</span>\" said <span class=\"green\">Anna Pavlovna</span>. \"<span class=\"red\">You are\n",
            "staying the whole evening, I hope?</span>\"\n",
            "<p></p>\n",
            "\"<span class=\"red\">And the fete at the English ambassador's? Today is Wednesday. I\n",
            "must put in an appearance there,</span>\" said <span class=\"green\">the prince</span>. \"<span class=\"red\">My daughter is\n",
            "coming for me to take me there.</span>\"\n",
            "<p></p>\n",
            "\"<span class=\"red\">I thought today's fete had been canceled. I confess all these\n",
            "festivities and fireworks are becoming wearisome.</span>\"\n",
            "<p></p>\n",
            "\"<span class=\"red\">If they had known that you wished it, the entertainment would\n",
            "have been put off,</span>\" said <span class=\"green\">the prince</span>, who, like a wound-up clock, by\n",
            "force of habit said things he did not even wish to be believed.\n",
            "<p></p>\n",
            "\"<span class=\"red\">Don't tease! Well, and what has been decided about Novosiltsev's\n",
            "dispatch? You know everything.</span>\"\n",
            "<p></p>\n",
            "\"<span class=\"red\">What can one say about it?</span>\" replied <span class=\"green\">the prince</span> in a cold,\n",
            "listless tone. \"<span class=\"red\">What has been decided? They have decided that\n",
            "Buonaparte has burnt his boats, and I believe that we are ready to\n",
            "burn ours.</span>\"\n",
            "<p></p>\n",
            "<span class=\"green\">Prince Vasili</span> always spoke languidly, like an actor repeating a\n",
            "stale part. <span class=\"green\">Anna Pavlovna</span> Scherer on the contrary, despite her forty\n",
            "years, overflowed with animation and impulsiveness. To be an\n",
            "enthusiast had become her social vocation and, sometimes even when she\n",
            "did not feel like it, she became enthusiastic in order not to\n",
            "disappoint the expectations of those who knew her. The subdued smile\n",
            "which, though it did not suit her faded features, always played\n",
            "round her lips expressed, as in a spoiled child, a continual\n",
            "consciousness of her charming defect, which she neither wished, nor\n",
            "could, nor considered it necessary, to correct.\n",
            "<p></p>\n",
            "In the midst of a conversation on political matters <span class=\"green\">Anna Pavlovna</span>\n",
            "burst out:\n",
            "<p></p>\n",
            "\"<span class=\"red\">Oh, don't speak to me of Austria. Perhaps I don't understand\n",
            "things, but Austria never has wished, and does not wish, for war.\n",
            "She is betraying us! Russia alone must save Europe. Our gracious\n",
            "sovereign recognizes his high vocation and will be true to it. That is\n",
            "the one thing I have faith in! Our good and wonderful sovereign has to\n",
            "perform the noblest role on earth, and he is so virtuous and noble\n",
            "that God will not forsake him. He will fulfill his vocation and\n",
            "crush the hydra of revolution, which has become more terrible than\n",
            "ever in the person of this murderer and villain! We alone must\n",
            "avenge the blood of the just one.... Whom, I ask you, can we rely\n",
            "on?... England with her commercial spirit will not and cannot\n",
            "understand the Emperor Alexander's loftiness of soul. She has\n",
            "refused to evacuate Malta. She wanted to find, and still seeks, some\n",
            "secret motive in our actions. What answer did Novosiltsev get? None.\n",
            "The English have not understood and cannot understand the\n",
            "self-abnegation of our Emperor who wants nothing for himself, but only\n",
            "desires the good of mankind. And what have they promised? Nothing! And\n",
            "what little they have promised they will not perform! Prussia has\n",
            "always declared that Buonaparte is invincible, and that all Europe\n",
            "is powerless before him.... And I don't believe a word that Hardenburg\n",
            "says, or Haugwitz either. This famous Prussian neutrality is just a\n",
            "trap. I have faith only in God and the lofty destiny of our adored\n",
            "monarch. He will save Europe!</span>\"\n",
            "<p></p>\n",
            "She suddenly paused, smiling at her own impetuosity.\n",
            "<p></p>\n",
            "\"<span class=\"red\">I think,</span>\" said <span class=\"green\">the prince</span> with a smile, \"<span class=\"red\">that if you had been\n",
            "sent instead of our dear <span class=\"green\">Wintzingerode</span> you would have captured the\n",
            "<span class=\"green\">King of Prussia</span>'s consent by assault. You are so eloquent. Will you\n",
            "give me a cup of tea?</span>\"\n",
            "<p></p>\n",
            "\"<span class=\"red\">In a moment. A propos,</span>\" she added, becoming calm again, \"<span class=\"red\">I am\n",
            "expecting two very interesting men tonight, <span class=\"green\">le Vicomte de Mortemart</span>,\n",
            "who is connected with the <span class=\"green\">Montmorencys</span> through the <span class=\"green\">Rohans</span>, one of\n",
            "the best French families. He is one of the genuine emigres, the good\n",
            "ones. And also the <span class=\"green\">Abbe Morio</span>. Do you know that profound thinker? He\n",
            "has been received by <span class=\"green\">the Emperor</span>. Had you heard?</span>\"\n",
            "<p></p>\n",
            "\"<span class=\"red\">I shall be delighted to meet them,</span>\" said <span class=\"green\">the prince</span>. \"<span class=\"red\">But tell me,</span>\"\n",
            "he added with studied carelessness as if it had only just occurred\n",
            "to him, though the question he was about to ask was the chief motive\n",
            "of his visit, \"<span class=\"red\">is it true that the Dowager Empress wants Baron Funke\n",
            "to be appointed first secretary at Vienna? The baron by all accounts\n",
            "is a poor creature.</span>\"\n",
            "<p></p>\n",
            "<span class=\"green\">Prince Vasili</span> wished to obtain this post for his son, but others\n",
            "were trying through the <span class=\"green\">Dowager Empress Marya Fedorovna</span> to secure it\n",
            "for <span class=\"green\">the baron</span>.\n",
            "<p></p>\n",
            "<span class=\"green\">Anna Pavlovna</span> almost closed her eyes to indicate that neither she\n",
            "nor anyone else had a right to criticize what <span class=\"green\">the Empress</span> desired or\n",
            "was pleased with.\n",
            "<p></p>\n",
            "\"<span class=\"red\">Baron Funke has been recommended to the Dowager Empress by her\n",
            "sister,</span>\" was all she said, in a dry and mournful tone.\n",
            "<p></p>\n",
            "As she named <span class=\"green\">the Empress</span>, <span class=\"green\">Anna Pavlovna's</span> face suddenly assumed an\n",
            "expression of profound and sincere devotion and respect mingled with\n",
            "sadness, and this occurred every time she mentioned her illustrious\n",
            "patroness. She added that <span class=\"green\">Her Majesty</span> had deigned to show <span class=\"green\">Baron\n",
            "Funke</span>, and again her face clouded over with sadness.\n",
            "<p></p>\n",
            "<span class=\"green\">The prince</span> was silent and looked indifferent. But, with the\n",
            "womanly and courtierlike quickness and tact habitual to her, <span class=\"green\">Anna\n",
            "Pavlovna</span> wished both to rebuke him (for daring to speak he had done of\n",
            "a man recommended to <span class=\"green\">the Empress</span>) and at the same time to console him,\n",
            "so she said:\n",
            "<p></p>\n",
            "\"<span class=\"red\">Now about your family. Do you know that since your daughter came\n",
            "out everyone has been enraptured by her? They say she is amazingly\n",
            "beautiful.</span>\"\n",
            "<p></p>\n",
            "<span class=\"green\">The prince</span> bowed to signify his respect and gratitude.\n",
            "<p></p>\n",
            "\"<span class=\"red\">I often think,</span>\" she continued after a short pause, drawing nearer\n",
            "to the prince and smiling amiably at him as if to show that\n",
            "political and social topics were ended and the time had come for\n",
            "intimate conversation- \"<span class=\"red\">I often think how unfairly sometimes the\n",
            "joys of life are distributed. Why has fate given you two such splendid\n",
            "children? I don't speak of <span class=\"green\">Anatole</span>, your youngest. I don't like\n",
            "him,</span>\" she added in a tone admitting of no rejoinder and raising her\n",
            "eyebrows. \"<span class=\"red\">Two such charming children. And really you appreciate\n",
            "them less than anyone, and so you don't deserve to have them.</span>\"\n",
            "<p></p>\n",
            "And she smiled her ecstatic smile.\n",
            "<p></p>\n",
            "\"<span class=\"red\">I can't help it,</span>\" said <span class=\"green\">the prince</span>. \"<span class=\"red\">Lavater would have said I\n",
            "lack the bump of paternity.</span>\"\n",
            "<p></p>\n",
            "\"<span class=\"red\">Don't joke; I mean to have a serious talk with you. Do you know I\n",
            "am dissatisfied with your younger son? Between ourselves</span>\" (and her\n",
            "face assumed its melancholy expression), \"<span class=\"red\">he was mentioned at Her\n",
            "Majesty's and you were pitied....</span>\"\n",
            "<p></p>\n",
            "<span class=\"green\">The prince</span> answered nothing, but she looked at him significantly,\n",
            "awaiting a reply. He frowned.\n",
            "<p></p>\n",
            "\"<span class=\"red\">What would you have me do?</span>\" he said at last. \"<span class=\"red\">You know I did all\n",
            "a father could for their education, and they have both turned out\n",
            "fools. Hippolyte is at least a quiet fool, but Anatole is an active\n",
            "one. That is the only difference between them.</span>\" He said this smiling\n",
            "in a way more natural and animated than usual, so that the wrinkles\n",
            "round his mouth very clearly revealed something unexpectedly coarse\n",
            "and unpleasant.\n",
            "<p></p>\n",
            "\"<span class=\"red\">And why are children born to such men as you? If you were not a\n",
            "father there would be nothing I could reproach you with,</span>\" said <span class=\"green\">Anna\n",
            "Pavlovna</span>, looking up pensively.\n",
            "<p></p>\n",
            "\"<span class=\"red\">I am your faithful slave and to you alone I can confess that my\n",
            "children are the bane of my life. It is the cross I have to bear. That\n",
            "is how I explain it to myself. It can't be helped!</span>\"\n",
            "<p></p>\n",
            "He said no more, but expressed his resignation to cruel fate by a\n",
            "gesture. <span class=\"green\">Anna Pavlovna</span> meditated.\n",
            "</div>\n",
            "</body>\n",
            "</html>\n",
            "\n"
          ],
          "name": "stdout"
        }
      ]
    },
    {
      "cell_type": "markdown",
      "metadata": {
        "id": "9uU51h8hSOYm",
        "colab_type": "text"
      },
      "source": [
        "Use the `find_all` function to extract a Python list of proper nouns found by selecting only the text within `<span class=\"green\"></span>` tags:"
      ]
    },
    {
      "cell_type": "code",
      "metadata": {
        "id": "z1_TzNJsSsBk",
        "colab_type": "code",
        "colab": {
          "base_uri": "https://localhost:8080/",
          "height": 790
        },
        "outputId": "838aedbc-d179-4b74-b791-270d8f882511"
      },
      "source": [
        "nameList = bs.findAll('span', {'class': 'green'})\n",
        "for name in nameList:\n",
        "  print(name.get_text())"
      ],
      "execution_count": 6,
      "outputs": [
        {
          "output_type": "stream",
          "text": [
            "Anna\n",
            "Pavlovna Scherer\n",
            "Empress Marya\n",
            "Fedorovna\n",
            "Prince Vasili Kuragin\n",
            "Anna Pavlovna\n",
            "St. Petersburg\n",
            "the prince\n",
            "Anna Pavlovna\n",
            "Anna Pavlovna\n",
            "the prince\n",
            "the prince\n",
            "the prince\n",
            "Prince Vasili\n",
            "Anna Pavlovna\n",
            "Anna Pavlovna\n",
            "the prince\n",
            "Wintzingerode\n",
            "King of Prussia\n",
            "le Vicomte de Mortemart\n",
            "Montmorencys\n",
            "Rohans\n",
            "Abbe Morio\n",
            "the Emperor\n",
            "the prince\n",
            "Prince Vasili\n",
            "Dowager Empress Marya Fedorovna\n",
            "the baron\n",
            "Anna Pavlovna\n",
            "the Empress\n",
            "the Empress\n",
            "Anna Pavlovna's\n",
            "Her Majesty\n",
            "Baron\n",
            "Funke\n",
            "The prince\n",
            "Anna\n",
            "Pavlovna\n",
            "the Empress\n",
            "The prince\n",
            "Anatole\n",
            "the prince\n",
            "The prince\n",
            "Anna\n",
            "Pavlovna\n",
            "Anna Pavlovna\n"
          ],
          "name": "stdout"
        }
      ]
    },
    {
      "cell_type": "markdown",
      "metadata": {
        "id": "GAd1aZn8S9_a",
        "colab_type": "text"
      },
      "source": [
        "The `bs.tagName` method obtains the first occurrence of that tag on the page; whereas the `bs.find_all(tagName, tagAttributes)` method gets a list of all of the tags on the page, rather than just the first. \\\\\n",
        "`name.get_text()` strips all tags from the document curently worked on and returns a Unicode string containing the text only, as shown below:"
      ]
    },
    {
      "cell_type": "code",
      "metadata": {
        "id": "movUMLd0TbrG",
        "colab_type": "code",
        "colab": {
          "base_uri": "https://localhost:8080/",
          "height": 790
        },
        "outputId": "fe3a567b-5c34-46d5-e727-2e72f8155dd2"
      },
      "source": [
        "for name in nameList:\n",
        "  print(name)"
      ],
      "execution_count": 8,
      "outputs": [
        {
          "output_type": "stream",
          "text": [
            "<span class=\"green\">Anna\n",
            "Pavlovna Scherer</span>\n",
            "<span class=\"green\">Empress Marya\n",
            "Fedorovna</span>\n",
            "<span class=\"green\">Prince Vasili Kuragin</span>\n",
            "<span class=\"green\">Anna Pavlovna</span>\n",
            "<span class=\"green\">St. Petersburg</span>\n",
            "<span class=\"green\">the prince</span>\n",
            "<span class=\"green\">Anna Pavlovna</span>\n",
            "<span class=\"green\">Anna Pavlovna</span>\n",
            "<span class=\"green\">the prince</span>\n",
            "<span class=\"green\">the prince</span>\n",
            "<span class=\"green\">the prince</span>\n",
            "<span class=\"green\">Prince Vasili</span>\n",
            "<span class=\"green\">Anna Pavlovna</span>\n",
            "<span class=\"green\">Anna Pavlovna</span>\n",
            "<span class=\"green\">the prince</span>\n",
            "<span class=\"green\">Wintzingerode</span>\n",
            "<span class=\"green\">King of Prussia</span>\n",
            "<span class=\"green\">le Vicomte de Mortemart</span>\n",
            "<span class=\"green\">Montmorencys</span>\n",
            "<span class=\"green\">Rohans</span>\n",
            "<span class=\"green\">Abbe Morio</span>\n",
            "<span class=\"green\">the Emperor</span>\n",
            "<span class=\"green\">the prince</span>\n",
            "<span class=\"green\">Prince Vasili</span>\n",
            "<span class=\"green\">Dowager Empress Marya Fedorovna</span>\n",
            "<span class=\"green\">the baron</span>\n",
            "<span class=\"green\">Anna Pavlovna</span>\n",
            "<span class=\"green\">the Empress</span>\n",
            "<span class=\"green\">the Empress</span>\n",
            "<span class=\"green\">Anna Pavlovna's</span>\n",
            "<span class=\"green\">Her Majesty</span>\n",
            "<span class=\"green\">Baron\n",
            "Funke</span>\n",
            "<span class=\"green\">The prince</span>\n",
            "<span class=\"green\">Anna\n",
            "Pavlovna</span>\n",
            "<span class=\"green\">the Empress</span>\n",
            "<span class=\"green\">The prince</span>\n",
            "<span class=\"green\">Anatole</span>\n",
            "<span class=\"green\">the prince</span>\n",
            "<span class=\"green\">The prince</span>\n",
            "<span class=\"green\">Anna\n",
            "Pavlovna</span>\n",
            "<span class=\"green\">Anna Pavlovna</span>\n"
          ],
          "name": "stdout"
        }
      ]
    },
    {
      "cell_type": "markdown",
      "metadata": {
        "id": "YjlMlTUnT2t-",
        "colab_type": "text"
      },
      "source": [
        "Be aware that, if a large block of text that contains many hyperlinks, paragraphs, and other tags, the `.get_text()` method will strip away all those information and leave with a tagless block of text. Thus, calling `.get_text()` should be the last thing to be done. Try to preserve the tag structure of a document as long as possible."
      ]
    },
    {
      "cell_type": "markdown",
      "metadata": {
        "id": "z0cjVEzjUgEr",
        "colab_type": "text"
      },
      "source": [
        "##`find()` and `find_all()` with BeautifulSoup\n",
        "\n",
        "\n",
        "```\n",
        "  find_all(tag, attributes, recursive, text, limit, keywords)\n",
        "  find(tag, attributes, recursived, text, keywords)\n",
        "```\n",
        "The `tag` argument can be passed a string name of a tag or even a Python list of string tag names:"
      ]
    },
    {
      "cell_type": "code",
      "metadata": {
        "id": "6xAj_AI9VFtg",
        "colab_type": "code",
        "colab": {
          "base_uri": "https://localhost:8080/",
          "height": 34
        },
        "outputId": "682331de-9a89-4a50-faac-ff2234be8b1f"
      },
      "source": [
        "titles = bs.find_all(['h1', 'h2', 'h3', 'h4', 'h5', 'h6'])\n",
        "print([title for title in titles])"
      ],
      "execution_count": 9,
      "outputs": [
        {
          "output_type": "stream",
          "text": [
            "[<h1>War and Peace</h1>, <h2>Chapter 1</h2>]\n"
          ],
          "name": "stdout"
        }
      ]
    },
    {
      "cell_type": "markdown",
      "metadata": {
        "id": "f0MhhxSYVYxF",
        "colab_type": "text"
      },
      "source": [
        "The `attributes` argument takes a Python dictionary of attributes and matches tags that contain any one of those attributes:"
      ]
    },
    {
      "cell_type": "code",
      "metadata": {
        "id": "z5XqXiFkVgnB",
        "colab_type": "code",
        "colab": {
          "base_uri": "https://localhost:8080/",
          "height": 1000
        },
        "outputId": "c7620126-2a94-4326-8b2b-b122a47232f2"
      },
      "source": [
        "allText = bs.find_all('span', {'class': {'green', 'red'}})\n",
        "print([text for text in allText])"
      ],
      "execution_count": 10,
      "outputs": [
        {
          "output_type": "stream",
          "text": [
            "[<span class=\"red\">Well, Prince, so Genoa and Lucca are now just family estates of the\n",
            "Buonapartes. But I warn you, if you don't tell me that this means war,\n",
            "if you still try to defend the infamies and horrors perpetrated by\n",
            "that Antichrist- I really believe he is Antichrist- I will have\n",
            "nothing more to do with you and you are no longer my friend, no longer\n",
            "my 'faithful slave,' as you call yourself! But how do you do? I see\n",
            "I have frightened you- sit down and tell me all the news.</span>, <span class=\"green\">Anna\n",
            "Pavlovna Scherer</span>, <span class=\"green\">Empress Marya\n",
            "Fedorovna</span>, <span class=\"green\">Prince Vasili Kuragin</span>, <span class=\"green\">Anna Pavlovna</span>, <span class=\"green\">St. Petersburg</span>, <span class=\"red\">If you have nothing better to do, Count [or Prince], and if the\n",
            "prospect of spending an evening with a poor invalid is not too\n",
            "terrible, I shall be very charmed to see you tonight between 7 and 10-\n",
            "Annette Scherer.</span>, <span class=\"red\">Heavens! what a virulent attack!</span>, <span class=\"green\">the prince</span>, <span class=\"green\">Anna Pavlovna</span>, <span class=\"red\">First of all, dear friend, tell me how you are. Set your friend's\n",
            "mind at rest,</span>, <span class=\"red\">Can one be well while suffering morally? Can one be calm in times\n",
            "like these if one has any feeling?</span>, <span class=\"green\">Anna Pavlovna</span>, <span class=\"red\">You are\n",
            "staying the whole evening, I hope?</span>, <span class=\"red\">And the fete at the English ambassador's? Today is Wednesday. I\n",
            "must put in an appearance there,</span>, <span class=\"green\">the prince</span>, <span class=\"red\">My daughter is\n",
            "coming for me to take me there.</span>, <span class=\"red\">I thought today's fete had been canceled. I confess all these\n",
            "festivities and fireworks are becoming wearisome.</span>, <span class=\"red\">If they had known that you wished it, the entertainment would\n",
            "have been put off,</span>, <span class=\"green\">the prince</span>, <span class=\"red\">Don't tease! Well, and what has been decided about Novosiltsev's\n",
            "dispatch? You know everything.</span>, <span class=\"red\">What can one say about it?</span>, <span class=\"green\">the prince</span>, <span class=\"red\">What has been decided? They have decided that\n",
            "Buonaparte has burnt his boats, and I believe that we are ready to\n",
            "burn ours.</span>, <span class=\"green\">Prince Vasili</span>, <span class=\"green\">Anna Pavlovna</span>, <span class=\"green\">Anna Pavlovna</span>, <span class=\"red\">Oh, don't speak to me of Austria. Perhaps I don't understand\n",
            "things, but Austria never has wished, and does not wish, for war.\n",
            "She is betraying us! Russia alone must save Europe. Our gracious\n",
            "sovereign recognizes his high vocation and will be true to it. That is\n",
            "the one thing I have faith in! Our good and wonderful sovereign has to\n",
            "perform the noblest role on earth, and he is so virtuous and noble\n",
            "that God will not forsake him. He will fulfill his vocation and\n",
            "crush the hydra of revolution, which has become more terrible than\n",
            "ever in the person of this murderer and villain! We alone must\n",
            "avenge the blood of the just one.... Whom, I ask you, can we rely\n",
            "on?... England with her commercial spirit will not and cannot\n",
            "understand the Emperor Alexander's loftiness of soul. She has\n",
            "refused to evacuate Malta. She wanted to find, and still seeks, some\n",
            "secret motive in our actions. What answer did Novosiltsev get? None.\n",
            "The English have not understood and cannot understand the\n",
            "self-abnegation of our Emperor who wants nothing for himself, but only\n",
            "desires the good of mankind. And what have they promised? Nothing! And\n",
            "what little they have promised they will not perform! Prussia has\n",
            "always declared that Buonaparte is invincible, and that all Europe\n",
            "is powerless before him.... And I don't believe a word that Hardenburg\n",
            "says, or Haugwitz either. This famous Prussian neutrality is just a\n",
            "trap. I have faith only in God and the lofty destiny of our adored\n",
            "monarch. He will save Europe!</span>, <span class=\"red\">I think,</span>, <span class=\"green\">the prince</span>, <span class=\"red\">that if you had been\n",
            "sent instead of our dear <span class=\"green\">Wintzingerode</span> you would have captured the\n",
            "<span class=\"green\">King of Prussia</span>'s consent by assault. You are so eloquent. Will you\n",
            "give me a cup of tea?</span>, <span class=\"green\">Wintzingerode</span>, <span class=\"green\">King of Prussia</span>, <span class=\"red\">In a moment. A propos,</span>, <span class=\"red\">I am\n",
            "expecting two very interesting men tonight, <span class=\"green\">le Vicomte de Mortemart</span>,\n",
            "who is connected with the <span class=\"green\">Montmorencys</span> through the <span class=\"green\">Rohans</span>, one of\n",
            "the best French families. He is one of the genuine emigres, the good\n",
            "ones. And also the <span class=\"green\">Abbe Morio</span>. Do you know that profound thinker? He\n",
            "has been received by <span class=\"green\">the Emperor</span>. Had you heard?</span>, <span class=\"green\">le Vicomte de Mortemart</span>, <span class=\"green\">Montmorencys</span>, <span class=\"green\">Rohans</span>, <span class=\"green\">Abbe Morio</span>, <span class=\"green\">the Emperor</span>, <span class=\"red\">I shall be delighted to meet them,</span>, <span class=\"green\">the prince</span>, <span class=\"red\">But tell me,</span>, <span class=\"red\">is it true that the Dowager Empress wants Baron Funke\n",
            "to be appointed first secretary at Vienna? The baron by all accounts\n",
            "is a poor creature.</span>, <span class=\"green\">Prince Vasili</span>, <span class=\"green\">Dowager Empress Marya Fedorovna</span>, <span class=\"green\">the baron</span>, <span class=\"green\">Anna Pavlovna</span>, <span class=\"green\">the Empress</span>, <span class=\"red\">Baron Funke has been recommended to the Dowager Empress by her\n",
            "sister,</span>, <span class=\"green\">the Empress</span>, <span class=\"green\">Anna Pavlovna's</span>, <span class=\"green\">Her Majesty</span>, <span class=\"green\">Baron\n",
            "Funke</span>, <span class=\"green\">The prince</span>, <span class=\"green\">Anna\n",
            "Pavlovna</span>, <span class=\"green\">the Empress</span>, <span class=\"red\">Now about your family. Do you know that since your daughter came\n",
            "out everyone has been enraptured by her? They say she is amazingly\n",
            "beautiful.</span>, <span class=\"green\">The prince</span>, <span class=\"red\">I often think,</span>, <span class=\"red\">I often think how unfairly sometimes the\n",
            "joys of life are distributed. Why has fate given you two such splendid\n",
            "children? I don't speak of <span class=\"green\">Anatole</span>, your youngest. I don't like\n",
            "him,</span>, <span class=\"green\">Anatole</span>, <span class=\"red\">Two such charming children. And really you appreciate\n",
            "them less than anyone, and so you don't deserve to have them.</span>, <span class=\"red\">I can't help it,</span>, <span class=\"green\">the prince</span>, <span class=\"red\">Lavater would have said I\n",
            "lack the bump of paternity.</span>, <span class=\"red\">Don't joke; I mean to have a serious talk with you. Do you know I\n",
            "am dissatisfied with your younger son? Between ourselves</span>, <span class=\"red\">he was mentioned at Her\n",
            "Majesty's and you were pitied....</span>, <span class=\"green\">The prince</span>, <span class=\"red\">What would you have me do?</span>, <span class=\"red\">You know I did all\n",
            "a father could for their education, and they have both turned out\n",
            "fools. Hippolyte is at least a quiet fool, but Anatole is an active\n",
            "one. That is the only difference between them.</span>, <span class=\"red\">And why are children born to such men as you? If you were not a\n",
            "father there would be nothing I could reproach you with,</span>, <span class=\"green\">Anna\n",
            "Pavlovna</span>, <span class=\"red\">I am your faithful slave and to you alone I can confess that my\n",
            "children are the bane of my life. It is the cross I have to bear. That\n",
            "is how I explain it to myself. It can't be helped!</span>, <span class=\"green\">Anna Pavlovna</span>]\n"
          ],
          "name": "stdout"
        }
      ]
    },
    {
      "cell_type": "markdown",
      "metadata": {
        "id": "dkvN35qkVs87",
        "colab_type": "text"
      },
      "source": [
        "The `recursive` argument is a boolean. If `recursive` is set to `True`, the `find_all` function looks into children, and children's children, for tags that match the parameters defined before. If `False`, it will look only at the top-level tags in the document. By default, `find_all` works recursively (set to `True`) \\\\"
      ]
    },
    {
      "cell_type": "markdown",
      "metadata": {
        "id": "CWh5mxvVWSg2",
        "colab_type": "text"
      },
      "source": [
        "The `text` argument matches based on the text content of the tags, rather than properties of the tags themselves:"
      ]
    },
    {
      "cell_type": "code",
      "metadata": {
        "id": "XWwHZDYZWceI",
        "colab_type": "code",
        "colab": {
          "base_uri": "https://localhost:8080/",
          "height": 34
        },
        "outputId": "43002e53-7a70-48c6-b092-5829d16a76b4"
      },
      "source": [
        "nameList = bs.find_all(text='the prince')\n",
        "print(nameList)"
      ],
      "execution_count": 18,
      "outputs": [
        {
          "output_type": "stream",
          "text": [
            "['the prince', 'the prince', 'the prince', 'the prince', 'the prince', 'the prince', 'the prince']\n"
          ],
          "name": "stdout"
        }
      ]
    },
    {
      "cell_type": "code",
      "metadata": {
        "id": "GrqhySw6WpRE",
        "colab_type": "code",
        "colab": {
          "base_uri": "https://localhost:8080/",
          "height": 34
        },
        "outputId": "b6f360a5-dbb4-41c4-966a-cfaddcca48c4"
      },
      "source": [
        "print(len(nameList))"
      ],
      "execution_count": 12,
      "outputs": [
        {
          "output_type": "stream",
          "text": [
            "7\n"
          ],
          "name": "stdout"
        }
      ]
    },
    {
      "cell_type": "markdown",
      "metadata": {
        "id": "q0G6RGFOWu93",
        "colab_type": "text"
      },
      "source": [
        "The `limit` argument is used only in the `find_all` method; `find` is equivalent to the same `find_all` call, with a limit of 1. `limit` allows to retrieve the first x items from the page."
      ]
    },
    {
      "cell_type": "markdown",
      "metadata": {
        "id": "wCgeTi4mXGoG",
        "colab_type": "text"
      },
      "source": [
        "The `keyword` argument allows to select tags that contain a particular attribute or set of attributes:"
      ]
    },
    {
      "cell_type": "code",
      "metadata": {
        "id": "vkoEtzy5XRx1",
        "colab_type": "code",
        "colab": {
          "base_uri": "https://localhost:8080/",
          "height": 34
        },
        "outputId": "5e9ea791-ae5a-4a72-82c1-4b901f760afe"
      },
      "source": [
        "title = bs.find_all(id='title', class_='text')\n",
        "print([text for text in title])"
      ],
      "execution_count": 19,
      "outputs": [
        {
          "output_type": "stream",
          "text": [
            "[]\n"
          ],
          "name": "stdout"
        }
      ]
    },
    {
      "cell_type": "markdown",
      "metadata": {
        "id": "Qf98WOcUXmf5",
        "colab_type": "text"
      },
      "source": [
        "This returns the first tag with the word \"text\" in the `class_` attribute and \"title\" in the `id` attribute. \\\\\n",
        "Note that, by convention, each value for an `id` should be used only once\n",
        "on the page. Therefore, in practice, a line like this may not be particularly useful, and\n",
        "should be equivalent to the following:"
      ]
    },
    {
      "cell_type": "code",
      "metadata": {
        "id": "AMsltgU_X0BN",
        "colab_type": "code",
        "colab": {}
      },
      "source": [
        "title = bs.find(id='title')"
      ],
      "execution_count": 0,
      "outputs": []
    },
    {
      "cell_type": "markdown",
      "metadata": {
        "id": "fOQmnXJjYbVn",
        "colab_type": "text"
      },
      "source": [
        "Since `class` is a protected keyword in Python, that is, `class` is a reserved word in Python that cannot be used as a variable or argument name. A syntax error occured if trying the following call:"
      ]
    },
    {
      "cell_type": "code",
      "metadata": {
        "id": "iMn7lLJ2YsVa",
        "colab_type": "code",
        "colab": {
          "base_uri": "https://localhost:8080/",
          "height": 128
        },
        "outputId": "3b4ef9a1-4425-4dc8-9286-7211f50a38c7"
      },
      "source": [
        "bs.find_all(class = 'green')"
      ],
      "execution_count": 21,
      "outputs": [
        {
          "output_type": "error",
          "ename": "SyntaxError",
          "evalue": "ignored",
          "traceback": [
            "\u001b[0;36m  File \u001b[0;32m\"<ipython-input-21-da8006e24c47>\"\u001b[0;36m, line \u001b[0;32m1\u001b[0m\n\u001b[0;31m    bs.find_all(class='green')\u001b[0m\n\u001b[0m                    ^\u001b[0m\n\u001b[0;31mSyntaxError\u001b[0m\u001b[0;31m:\u001b[0m invalid syntax\n"
          ]
        }
      ]
    },
    {
      "cell_type": "markdown",
      "metadata": {
        "id": "apDVFRNaYvcC",
        "colab_type": "text"
      },
      "source": [
        "Instead, apply the following solution:"
      ]
    },
    {
      "cell_type": "code",
      "metadata": {
        "id": "GfVewPJeYynl",
        "colab_type": "code",
        "colab": {
          "base_uri": "https://localhost:8080/",
          "height": 138
        },
        "outputId": "9a830230-9263-4ddf-a3c1-7b25096f16ea"
      },
      "source": [
        "bs.find_all(class_ = 'green')"
      ],
      "execution_count": 22,
      "outputs": [
        {
          "output_type": "execute_result",
          "data": {
            "text/plain": [
              "[<span class=\"green\">Anna\n",
              " Pavlovna Scherer</span>, <span class=\"green\">Empress Marya\n",
              " Fedorovna</span>, <span class=\"green\">Prince Vasili Kuragin</span>, <span class=\"green\">Anna Pavlovna</span>, <span class=\"green\">St. Petersburg</span>, <span class=\"green\">the prince</span>, <span class=\"green\">Anna Pavlovna</span>, <span class=\"green\">Anna Pavlovna</span>, <span class=\"green\">the prince</span>, <span class=\"green\">the prince</span>, <span class=\"green\">the prince</span>, <span class=\"green\">Prince Vasili</span>, <span class=\"green\">Anna Pavlovna</span>, <span class=\"green\">Anna Pavlovna</span>, <span class=\"green\">the prince</span>, <span class=\"green\">Wintzingerode</span>, <span class=\"green\">King of Prussia</span>, <span class=\"green\">le Vicomte de Mortemart</span>, <span class=\"green\">Montmorencys</span>, <span class=\"green\">Rohans</span>, <span class=\"green\">Abbe Morio</span>, <span class=\"green\">the Emperor</span>, <span class=\"green\">the prince</span>, <span class=\"green\">Prince Vasili</span>, <span class=\"green\">Dowager Empress Marya Fedorovna</span>, <span class=\"green\">the baron</span>, <span class=\"green\">Anna Pavlovna</span>, <span class=\"green\">the Empress</span>, <span class=\"green\">the Empress</span>, <span class=\"green\">Anna Pavlovna's</span>, <span class=\"green\">Her Majesty</span>, <span class=\"green\">Baron\n",
              " Funke</span>, <span class=\"green\">The prince</span>, <span class=\"green\">Anna\n",
              " Pavlovna</span>, <span class=\"green\">the Empress</span>, <span class=\"green\">The prince</span>, <span class=\"green\">Anatole</span>, <span class=\"green\">the prince</span>, <span class=\"green\">The prince</span>, <span class=\"green\">Anna\n",
              " Pavlovna</span>, <span class=\"green\">Anna Pavlovna</span>]"
            ]
          },
          "metadata": {
            "tags": []
          },
          "execution_count": 22
        }
      ]
    },
    {
      "cell_type": "markdown",
      "metadata": {
        "id": "82rBNHw_Y3hq",
        "colab_type": "text"
      },
      "source": [
        "Or, alternatively:"
      ]
    },
    {
      "cell_type": "code",
      "metadata": {
        "id": "bTbVxBHWY5x5",
        "colab_type": "code",
        "colab": {
          "base_uri": "https://localhost:8080/",
          "height": 138
        },
        "outputId": "af8460a1-76d6-404f-9a9c-722c60b7a5d9"
      },
      "source": [
        "bs.find_all('', {'class':'green'})"
      ],
      "execution_count": 23,
      "outputs": [
        {
          "output_type": "execute_result",
          "data": {
            "text/plain": [
              "[<span class=\"green\">Anna\n",
              " Pavlovna Scherer</span>, <span class=\"green\">Empress Marya\n",
              " Fedorovna</span>, <span class=\"green\">Prince Vasili Kuragin</span>, <span class=\"green\">Anna Pavlovna</span>, <span class=\"green\">St. Petersburg</span>, <span class=\"green\">the prince</span>, <span class=\"green\">Anna Pavlovna</span>, <span class=\"green\">Anna Pavlovna</span>, <span class=\"green\">the prince</span>, <span class=\"green\">the prince</span>, <span class=\"green\">the prince</span>, <span class=\"green\">Prince Vasili</span>, <span class=\"green\">Anna Pavlovna</span>, <span class=\"green\">Anna Pavlovna</span>, <span class=\"green\">the prince</span>, <span class=\"green\">Wintzingerode</span>, <span class=\"green\">King of Prussia</span>, <span class=\"green\">le Vicomte de Mortemart</span>, <span class=\"green\">Montmorencys</span>, <span class=\"green\">Rohans</span>, <span class=\"green\">Abbe Morio</span>, <span class=\"green\">the Emperor</span>, <span class=\"green\">the prince</span>, <span class=\"green\">Prince Vasili</span>, <span class=\"green\">Dowager Empress Marya Fedorovna</span>, <span class=\"green\">the baron</span>, <span class=\"green\">Anna Pavlovna</span>, <span class=\"green\">the Empress</span>, <span class=\"green\">the Empress</span>, <span class=\"green\">Anna Pavlovna's</span>, <span class=\"green\">Her Majesty</span>, <span class=\"green\">Baron\n",
              " Funke</span>, <span class=\"green\">The prince</span>, <span class=\"green\">Anna\n",
              " Pavlovna</span>, <span class=\"green\">the Empress</span>, <span class=\"green\">The prince</span>, <span class=\"green\">Anatole</span>, <span class=\"green\">the prince</span>, <span class=\"green\">The prince</span>, <span class=\"green\">Anna\n",
              " Pavlovna</span>, <span class=\"green\">Anna Pavlovna</span>]"
            ]
          },
          "metadata": {
            "tags": []
          },
          "execution_count": 23
        }
      ]
    },
    {
      "cell_type": "markdown",
      "metadata": {
        "id": "e1j4Vcu2ZUeq",
        "colab_type": "text"
      },
      "source": [
        "##Other BeautifulSoup Objects\n",
        "* `NavigableString` objects: Used to represent text within tags, rather than the tags themselves (some functions operate on and produce `NavigableStrings`, rather than tag objects).\n",
        "* `Comment` Objects: Used to find HTML comments in comment tags, `<!--like this one-->`"
      ]
    },
    {
      "cell_type": "markdown",
      "metadata": {
        "id": "3N1BTdmUZ05u",
        "colab_type": "text"
      },
      "source": [
        "##Navigating Trees\n",
        "The `find_all` function is responsible for finding tags based on their name and attributes. \\\\\n",
        "A BeautifulSoup tree may look like:\n",
        "\n",
        "\n",
        "```\n",
        "bs.tag.subTag.anotherSubTag\n",
        "```\n",
        "\n"
      ]
    },
    {
      "cell_type": "markdown",
      "metadata": {
        "id": "d_dzFE1WabgM",
        "colab_type": "text"
      },
      "source": [
        "###Dealing with children and other descendants\n",
        "The `tr` tags are children of the `table` tag, whereas `tr`, `th`, `td`, `img`, and `span` are all descendants of the `table` tag, as shown in the [example](http://www.pythonscraping.com/pages/page3.html) page. \\\\\n",
        "All children are descendants, but not all descendants are children. \\\\\n",
        "For example, `bs.body.h1` selects the first `h1` tag that is a descendant of the `body` tag, but not find tags located outside the body.\\\\\n",
        "`bs.div.find_all('img')` finds the first `div` tag in the document, and then retrieve a list of all `img` that are descendants of that `div` tag. \\\\\n",
        "To only find the descendants that are children, use the `.children` method:"
      ]
    },
    {
      "cell_type": "code",
      "metadata": {
        "id": "YyzpDK_8bj0e",
        "colab_type": "code",
        "colab": {}
      },
      "source": [
        "html = urlopen('http://www.pythonscraping.com/pages/page3.html')\n",
        "bs = BeautifulSoup(html, 'html.parser')"
      ],
      "execution_count": 0,
      "outputs": []
    },
    {
      "cell_type": "code",
      "metadata": {
        "id": "J9rxdM9WbtRW",
        "colab_type": "code",
        "colab": {
          "base_uri": "https://localhost:8080/",
          "height": 1000
        },
        "outputId": "a375230a-f508-40c3-9dd2-cf0ec08a3d27"
      },
      "source": [
        "for child in bs.find('table', {'id': 'giftList'}).children:\n",
        "  print(child)"
      ],
      "execution_count": 25,
      "outputs": [
        {
          "output_type": "stream",
          "text": [
            "\n",
            "\n",
            "<tr><th>\n",
            "Item Title\n",
            "</th><th>\n",
            "Description\n",
            "</th><th>\n",
            "Cost\n",
            "</th><th>\n",
            "Image\n",
            "</th></tr>\n",
            "\n",
            "\n",
            "<tr class=\"gift\" id=\"gift1\"><td>\n",
            "Vegetable Basket\n",
            "</td><td>\n",
            "This vegetable basket is the perfect gift for your health conscious (or overweight) friends!\n",
            "<span class=\"excitingNote\">Now with super-colorful bell peppers!</span>\n",
            "</td><td>\n",
            "$15.00\n",
            "</td><td>\n",
            "<img src=\"../img/gifts/img1.jpg\"/>\n",
            "</td></tr>\n",
            "\n",
            "\n",
            "<tr class=\"gift\" id=\"gift2\"><td>\n",
            "Russian Nesting Dolls\n",
            "</td><td>\n",
            "Hand-painted by trained monkeys, these exquisite dolls are priceless! And by \"priceless,\" we mean \"extremely expensive\"! <span class=\"excitingNote\">8 entire dolls per set! Octuple the presents!</span>\n",
            "</td><td>\n",
            "$10,000.52\n",
            "</td><td>\n",
            "<img src=\"../img/gifts/img2.jpg\"/>\n",
            "</td></tr>\n",
            "\n",
            "\n",
            "<tr class=\"gift\" id=\"gift3\"><td>\n",
            "Fish Painting\n",
            "</td><td>\n",
            "If something seems fishy about this painting, it's because it's a fish! <span class=\"excitingNote\">Also hand-painted by trained monkeys!</span>\n",
            "</td><td>\n",
            "$10,005.00\n",
            "</td><td>\n",
            "<img src=\"../img/gifts/img3.jpg\"/>\n",
            "</td></tr>\n",
            "\n",
            "\n",
            "<tr class=\"gift\" id=\"gift4\"><td>\n",
            "Dead Parrot\n",
            "</td><td>\n",
            "This is an ex-parrot! <span class=\"excitingNote\">Or maybe he's only resting?</span>\n",
            "</td><td>\n",
            "$0.50\n",
            "</td><td>\n",
            "<img src=\"../img/gifts/img4.jpg\"/>\n",
            "</td></tr>\n",
            "\n",
            "\n",
            "<tr class=\"gift\" id=\"gift5\"><td>\n",
            "Mystery Box\n",
            "</td><td>\n",
            "If you love suprises, this mystery box is for you! Do not place on light-colored surfaces. May cause oil staining. <span class=\"excitingNote\">Keep your friends guessing!</span>\n",
            "</td><td>\n",
            "$1.50\n",
            "</td><td>\n",
            "<img src=\"../img/gifts/img6.jpg\"/>\n",
            "</td></tr>\n",
            "\n",
            "\n"
          ],
          "name": "stdout"
        }
      ]
    },
    {
      "cell_type": "markdown",
      "metadata": {
        "id": "LWuU5Brib2qg",
        "colab_type": "text"
      },
      "source": [
        "This code prints the list of product rows in the `giftList` table, including the initial row of column labels. \\\\\n",
        "If trying the `.descendants` method:"
      ]
    },
    {
      "cell_type": "code",
      "metadata": {
        "id": "r6tjt9WzcKzR",
        "colab_type": "code",
        "colab": {
          "base_uri": "https://localhost:8080/",
          "height": 1000
        },
        "outputId": "7c80799c-55a7-4776-c851-bc12b0f88ddd"
      },
      "source": [
        "for desc in bs.find('table', {'id': 'giftList'}).descendants:\n",
        "  print(desc)"
      ],
      "execution_count": 26,
      "outputs": [
        {
          "output_type": "stream",
          "text": [
            "\n",
            "\n",
            "<tr><th>\n",
            "Item Title\n",
            "</th><th>\n",
            "Description\n",
            "</th><th>\n",
            "Cost\n",
            "</th><th>\n",
            "Image\n",
            "</th></tr>\n",
            "<th>\n",
            "Item Title\n",
            "</th>\n",
            "\n",
            "Item Title\n",
            "\n",
            "<th>\n",
            "Description\n",
            "</th>\n",
            "\n",
            "Description\n",
            "\n",
            "<th>\n",
            "Cost\n",
            "</th>\n",
            "\n",
            "Cost\n",
            "\n",
            "<th>\n",
            "Image\n",
            "</th>\n",
            "\n",
            "Image\n",
            "\n",
            "\n",
            "\n",
            "<tr class=\"gift\" id=\"gift1\"><td>\n",
            "Vegetable Basket\n",
            "</td><td>\n",
            "This vegetable basket is the perfect gift for your health conscious (or overweight) friends!\n",
            "<span class=\"excitingNote\">Now with super-colorful bell peppers!</span>\n",
            "</td><td>\n",
            "$15.00\n",
            "</td><td>\n",
            "<img src=\"../img/gifts/img1.jpg\"/>\n",
            "</td></tr>\n",
            "<td>\n",
            "Vegetable Basket\n",
            "</td>\n",
            "\n",
            "Vegetable Basket\n",
            "\n",
            "<td>\n",
            "This vegetable basket is the perfect gift for your health conscious (or overweight) friends!\n",
            "<span class=\"excitingNote\">Now with super-colorful bell peppers!</span>\n",
            "</td>\n",
            "\n",
            "This vegetable basket is the perfect gift for your health conscious (or overweight) friends!\n",
            "\n",
            "<span class=\"excitingNote\">Now with super-colorful bell peppers!</span>\n",
            "Now with super-colorful bell peppers!\n",
            "\n",
            "\n",
            "<td>\n",
            "$15.00\n",
            "</td>\n",
            "\n",
            "$15.00\n",
            "\n",
            "<td>\n",
            "<img src=\"../img/gifts/img1.jpg\"/>\n",
            "</td>\n",
            "\n",
            "\n",
            "<img src=\"../img/gifts/img1.jpg\"/>\n",
            "\n",
            "\n",
            "\n",
            "\n",
            "<tr class=\"gift\" id=\"gift2\"><td>\n",
            "Russian Nesting Dolls\n",
            "</td><td>\n",
            "Hand-painted by trained monkeys, these exquisite dolls are priceless! And by \"priceless,\" we mean \"extremely expensive\"! <span class=\"excitingNote\">8 entire dolls per set! Octuple the presents!</span>\n",
            "</td><td>\n",
            "$10,000.52\n",
            "</td><td>\n",
            "<img src=\"../img/gifts/img2.jpg\"/>\n",
            "</td></tr>\n",
            "<td>\n",
            "Russian Nesting Dolls\n",
            "</td>\n",
            "\n",
            "Russian Nesting Dolls\n",
            "\n",
            "<td>\n",
            "Hand-painted by trained monkeys, these exquisite dolls are priceless! And by \"priceless,\" we mean \"extremely expensive\"! <span class=\"excitingNote\">8 entire dolls per set! Octuple the presents!</span>\n",
            "</td>\n",
            "\n",
            "Hand-painted by trained monkeys, these exquisite dolls are priceless! And by \"priceless,\" we mean \"extremely expensive\"! \n",
            "<span class=\"excitingNote\">8 entire dolls per set! Octuple the presents!</span>\n",
            "8 entire dolls per set! Octuple the presents!\n",
            "\n",
            "\n",
            "<td>\n",
            "$10,000.52\n",
            "</td>\n",
            "\n",
            "$10,000.52\n",
            "\n",
            "<td>\n",
            "<img src=\"../img/gifts/img2.jpg\"/>\n",
            "</td>\n",
            "\n",
            "\n",
            "<img src=\"../img/gifts/img2.jpg\"/>\n",
            "\n",
            "\n",
            "\n",
            "\n",
            "<tr class=\"gift\" id=\"gift3\"><td>\n",
            "Fish Painting\n",
            "</td><td>\n",
            "If something seems fishy about this painting, it's because it's a fish! <span class=\"excitingNote\">Also hand-painted by trained monkeys!</span>\n",
            "</td><td>\n",
            "$10,005.00\n",
            "</td><td>\n",
            "<img src=\"../img/gifts/img3.jpg\"/>\n",
            "</td></tr>\n",
            "<td>\n",
            "Fish Painting\n",
            "</td>\n",
            "\n",
            "Fish Painting\n",
            "\n",
            "<td>\n",
            "If something seems fishy about this painting, it's because it's a fish! <span class=\"excitingNote\">Also hand-painted by trained monkeys!</span>\n",
            "</td>\n",
            "\n",
            "If something seems fishy about this painting, it's because it's a fish! \n",
            "<span class=\"excitingNote\">Also hand-painted by trained monkeys!</span>\n",
            "Also hand-painted by trained monkeys!\n",
            "\n",
            "\n",
            "<td>\n",
            "$10,005.00\n",
            "</td>\n",
            "\n",
            "$10,005.00\n",
            "\n",
            "<td>\n",
            "<img src=\"../img/gifts/img3.jpg\"/>\n",
            "</td>\n",
            "\n",
            "\n",
            "<img src=\"../img/gifts/img3.jpg\"/>\n",
            "\n",
            "\n",
            "\n",
            "\n",
            "<tr class=\"gift\" id=\"gift4\"><td>\n",
            "Dead Parrot\n",
            "</td><td>\n",
            "This is an ex-parrot! <span class=\"excitingNote\">Or maybe he's only resting?</span>\n",
            "</td><td>\n",
            "$0.50\n",
            "</td><td>\n",
            "<img src=\"../img/gifts/img4.jpg\"/>\n",
            "</td></tr>\n",
            "<td>\n",
            "Dead Parrot\n",
            "</td>\n",
            "\n",
            "Dead Parrot\n",
            "\n",
            "<td>\n",
            "This is an ex-parrot! <span class=\"excitingNote\">Or maybe he's only resting?</span>\n",
            "</td>\n",
            "\n",
            "This is an ex-parrot! \n",
            "<span class=\"excitingNote\">Or maybe he's only resting?</span>\n",
            "Or maybe he's only resting?\n",
            "\n",
            "\n",
            "<td>\n",
            "$0.50\n",
            "</td>\n",
            "\n",
            "$0.50\n",
            "\n",
            "<td>\n",
            "<img src=\"../img/gifts/img4.jpg\"/>\n",
            "</td>\n",
            "\n",
            "\n",
            "<img src=\"../img/gifts/img4.jpg\"/>\n",
            "\n",
            "\n",
            "\n",
            "\n",
            "<tr class=\"gift\" id=\"gift5\"><td>\n",
            "Mystery Box\n",
            "</td><td>\n",
            "If you love suprises, this mystery box is for you! Do not place on light-colored surfaces. May cause oil staining. <span class=\"excitingNote\">Keep your friends guessing!</span>\n",
            "</td><td>\n",
            "$1.50\n",
            "</td><td>\n",
            "<img src=\"../img/gifts/img6.jpg\"/>\n",
            "</td></tr>\n",
            "<td>\n",
            "Mystery Box\n",
            "</td>\n",
            "\n",
            "Mystery Box\n",
            "\n",
            "<td>\n",
            "If you love suprises, this mystery box is for you! Do not place on light-colored surfaces. May cause oil staining. <span class=\"excitingNote\">Keep your friends guessing!</span>\n",
            "</td>\n",
            "\n",
            "If you love suprises, this mystery box is for you! Do not place on light-colored surfaces. May cause oil staining. \n",
            "<span class=\"excitingNote\">Keep your friends guessing!</span>\n",
            "Keep your friends guessing!\n",
            "\n",
            "\n",
            "<td>\n",
            "$1.50\n",
            "</td>\n",
            "\n",
            "$1.50\n",
            "\n",
            "<td>\n",
            "<img src=\"../img/gifts/img6.jpg\"/>\n",
            "</td>\n",
            "\n",
            "\n",
            "<img src=\"../img/gifts/img6.jpg\"/>\n",
            "\n",
            "\n",
            "\n",
            "\n"
          ],
          "name": "stdout"
        }
      ]
    },
    {
      "cell_type": "markdown",
      "metadata": {
        "id": "lgnBx-j2cT1C",
        "colab_type": "text"
      },
      "source": [
        "###Dealing with siblings\n",
        "The `next_siblings()` function makes it trivial to collect data from tables, especially ones with title rows:"
      ]
    },
    {
      "cell_type": "code",
      "metadata": {
        "id": "r_eORKS3cfQp",
        "colab_type": "code",
        "colab": {
          "base_uri": "https://localhost:8080/",
          "height": 1000
        },
        "outputId": "a5919f8b-6dd1-4324-a0e1-b20c2efe3f08"
      },
      "source": [
        "for sibling in bs.find('table', {'id':'giftList'}).tr.next_siblings:\n",
        "  print(sibling)"
      ],
      "execution_count": 27,
      "outputs": [
        {
          "output_type": "stream",
          "text": [
            "\n",
            "\n",
            "<tr class=\"gift\" id=\"gift1\"><td>\n",
            "Vegetable Basket\n",
            "</td><td>\n",
            "This vegetable basket is the perfect gift for your health conscious (or overweight) friends!\n",
            "<span class=\"excitingNote\">Now with super-colorful bell peppers!</span>\n",
            "</td><td>\n",
            "$15.00\n",
            "</td><td>\n",
            "<img src=\"../img/gifts/img1.jpg\"/>\n",
            "</td></tr>\n",
            "\n",
            "\n",
            "<tr class=\"gift\" id=\"gift2\"><td>\n",
            "Russian Nesting Dolls\n",
            "</td><td>\n",
            "Hand-painted by trained monkeys, these exquisite dolls are priceless! And by \"priceless,\" we mean \"extremely expensive\"! <span class=\"excitingNote\">8 entire dolls per set! Octuple the presents!</span>\n",
            "</td><td>\n",
            "$10,000.52\n",
            "</td><td>\n",
            "<img src=\"../img/gifts/img2.jpg\"/>\n",
            "</td></tr>\n",
            "\n",
            "\n",
            "<tr class=\"gift\" id=\"gift3\"><td>\n",
            "Fish Painting\n",
            "</td><td>\n",
            "If something seems fishy about this painting, it's because it's a fish! <span class=\"excitingNote\">Also hand-painted by trained monkeys!</span>\n",
            "</td><td>\n",
            "$10,005.00\n",
            "</td><td>\n",
            "<img src=\"../img/gifts/img3.jpg\"/>\n",
            "</td></tr>\n",
            "\n",
            "\n",
            "<tr class=\"gift\" id=\"gift4\"><td>\n",
            "Dead Parrot\n",
            "</td><td>\n",
            "This is an ex-parrot! <span class=\"excitingNote\">Or maybe he's only resting?</span>\n",
            "</td><td>\n",
            "$0.50\n",
            "</td><td>\n",
            "<img src=\"../img/gifts/img4.jpg\"/>\n",
            "</td></tr>\n",
            "\n",
            "\n",
            "<tr class=\"gift\" id=\"gift5\"><td>\n",
            "Mystery Box\n",
            "</td><td>\n",
            "If you love suprises, this mystery box is for you! Do not place on light-colored surfaces. May cause oil staining. <span class=\"excitingNote\">Keep your friends guessing!</span>\n",
            "</td><td>\n",
            "$1.50\n",
            "</td><td>\n",
            "<img src=\"../img/gifts/img6.jpg\"/>\n",
            "</td></tr>\n",
            "\n",
            "\n"
          ],
          "name": "stdout"
        }
      ]
    },
    {
      "cell_type": "markdown",
      "metadata": {
        "id": "ucB-Oytvcrwx",
        "colab_type": "text"
      },
      "source": [
        "This prints all rows of products from the product table, except for the first title row, since objects cannot be siblings with themselves. The `next_siblings` function only calls *next* siblings! \\\\\n",
        "The `previous_siblings` function can be helpful if there is an easily selectable tag at the end of a list of sibling tags"
      ]
    },
    {
      "cell_type": "markdown",
      "metadata": {
        "id": "EqfrsANcdV7Y",
        "colab_type": "text"
      },
      "source": [
        "###Dealing with parents\n",
        "`.parent` or `.parents` functions"
      ]
    },
    {
      "cell_type": "code",
      "metadata": {
        "id": "YOwDUM3IdsNB",
        "colab_type": "code",
        "colab": {
          "base_uri": "https://localhost:8080/",
          "height": 67
        },
        "outputId": "a5484f97-da73-49cd-c0a6-54e29bcf95e9"
      },
      "source": [
        "print(bs.find('img', {'src':'../img/gifts/img1.jpg'}).parent.previous_sibling)"
      ],
      "execution_count": 29,
      "outputs": [
        {
          "output_type": "stream",
          "text": [
            "<td>\n",
            "$15.00\n",
            "</td>\n"
          ],
          "name": "stdout"
        }
      ]
    },
    {
      "cell_type": "markdown",
      "metadata": {
        "id": "j_upb-5Bd-yo",
        "colab_type": "text"
      },
      "source": [
        "This prints the price of the object represented by the image at the location `../img/gifts/img1.jpg`. \\\\\n",
        "How does it work?\n",
        "1. The image tag where `src=\"../img/gifts/img1.jpg\"` is first selected\n",
        "2. Select the parent of that tag, in this case, the `td` tag\n",
        "3. Select the `previous_sibling` of the `td` tag (in this case, the `td` tag that contains the dollar value of the product)\n",
        "4. Select the text within that tag, \"$15.00\""
      ]
    },
    {
      "cell_type": "markdown",
      "metadata": {
        "id": "d7Z5MypQelh9",
        "colab_type": "text"
      },
      "source": [
        "#Regular Expressions\n",
        "*Regular expressions* are used to identify regular strings. \\\\\n",
        "*Regular strings* are any strings that can be generated by a series of linear rules:\n",
        "1. Write the letter $a$ at least once.\n",
        "2. Append to this letter $b$ exactly five times.\n",
        "3. Append to this letter $c$ any even number of times.\n",
        "4. Write either the letter $d$ or $e$ at the end.\n",
        "\n",
        "Examples are $aaaabbbbbccccd, aabbbbbcce$, and so on. \\\\\n",
        "Regular expressions are merely a shorthand way of expressing these sets of rules. For example, the regular expression for the series of steps just described above can be written as\n",
        "\n",
        "\n",
        "```\n",
        "aa*bbbbb(cc)*(d|e)\n",
        "```\n",
        "This can be intrepreted as\n",
        "* `aa*`: The `a*` means \"any number of as, including 0 of them.\" Hence, it is guaranteed that the letter `a` is written at least once.\n",
        "* `bbbbb`: five `b`s in a row\n",
        "* `(cc)*`: Any even number of things can be grouped into pairs, thus this means that it allows to have any number of pairs of `c`s.\n",
        "* `(d|e)`: add a `d` or an `e`\n",
        "\n",
        "The [RegEx Pal](https://www.regexpal.com/) can be used to test the user-defined regular expressions on the fly. \\\\\n",
        "The figure below lists commonly used reuglar expression symbols:\n",
        "\n",
        "![alt text](https://github.com/lblogan14/web_scraping_with_python/blob/master/img/ch2/regex.JPG?raw=true)\n",
        "\n",
        "When attempting to write any regular expression from scratch, it’s best to first make a\n",
        "list of steps that concretely outlines what the target string looks like."
      ]
    },
    {
      "cell_type": "markdown",
      "metadata": {
        "id": "1Qvt4Uay15HL",
        "colab_type": "text"
      },
      "source": [
        "#Regular Expressions and BeautifulSoup\n",
        "To grab URLs to all of the product images from the [example](http://www.pythonscraping.com/pages/page3.html) page, need to avoid and discard all the hidden images, blank images used for spacing and aligning elements, and other random image tags that are unaware by the users.\\\\\n",
        "Assume that the layout of the page might change, so the position of the imagge in the page is not reliable in order to find the correct tag. The solution is to look for something identifying about the tag itself. In this case, the file path of the product image is the key:"
      ]
    },
    {
      "cell_type": "code",
      "metadata": {
        "id": "NWMiay_q3Px5",
        "colab_type": "code",
        "colab": {}
      },
      "source": [
        "from urllib.request import urlopen\n",
        "from bs4 import BeautifulSoup\n",
        "import re # regular expression module"
      ],
      "execution_count": 0,
      "outputs": []
    },
    {
      "cell_type": "code",
      "metadata": {
        "id": "GvopLCFw3bb9",
        "colab_type": "code",
        "colab": {}
      },
      "source": [
        "html = urlopen('http://www.pythonscraping.com/pages/page3.html')\n",
        "bs = BeautifulSoup(html, 'html.parser')"
      ],
      "execution_count": 0,
      "outputs": []
    },
    {
      "cell_type": "code",
      "metadata": {
        "id": "s9LJTXCA3eII",
        "colab_type": "code",
        "colab": {}
      },
      "source": [
        "images = bs.find_all('img', \n",
        "                     {'src': re.compile('\\.\\.\\/img\\/gifts/img.*\\.jpg')})"
      ],
      "execution_count": 0,
      "outputs": []
    },
    {
      "cell_type": "code",
      "metadata": {
        "id": "ECjE11Ju3tE_",
        "colab_type": "code",
        "colab": {
          "base_uri": "https://localhost:8080/",
          "height": 101
        },
        "outputId": "d9450f6c-f957-4c13-d032-a5a24ce85edb"
      },
      "source": [
        "for image in images:\n",
        "  print(image['src'])"
      ],
      "execution_count": 33,
      "outputs": [
        {
          "output_type": "stream",
          "text": [
            "../img/gifts/img1.jpg\n",
            "../img/gifts/img2.jpg\n",
            "../img/gifts/img3.jpg\n",
            "../img/gifts/img4.jpg\n",
            "../img/gifts/img6.jpg\n"
          ],
          "name": "stdout"
        }
      ]
    },
    {
      "cell_type": "markdown",
      "metadata": {
        "id": "m7ovDTTW3x-S",
        "colab_type": "text"
      },
      "source": [
        "This prints only the relative image paths that start with *../img/gifts/img* and end in *.jpg*. A regular expression can be inserted as any argument in a BeautifulSoup expression, allowing users a great deal of flexibility in finding target elements."
      ]
    },
    {
      "cell_type": "markdown",
      "metadata": {
        "id": "YV_de9Ay4MO6",
        "colab_type": "text"
      },
      "source": [
        "#Accessing Attributes\n",
        "The `a` tag is the URL pointing to is contained within the `href` attribute. \\\\\n",
        "The `img` tag is the target image is contained within the `src` attribute. \\\\\n",
        "Within tag objects, a Python list of attributes can be automaticaaly accessed by  calling:\n",
        "\n",
        "```\n",
        "myTag.attrs\n",
        "```\n",
        "\n",
        "This returns a Python dictionary object. The source location for an image can be found using the following:\n",
        "\n",
        "\n",
        "```\n",
        "myImgTag.attrs['src']\n",
        "```\n",
        "\n",
        "\n"
      ]
    },
    {
      "cell_type": "markdown",
      "metadata": {
        "id": "eFjvA7sO5JRm",
        "colab_type": "text"
      },
      "source": [
        "#Lambda Expressions\n",
        "A *lambda expression* is a function that is passed into another function as a variable; instead of defining a function as $f(x,y)$, a function may be defined as $f(g(x), y)$ or even $f(g(x), h(x))$. \\\\\n",
        "BeautifulSoup allows users to pass certain types of functions as parameters into the\n",
        "`find_all` function. The only thing ti notice is that these functions must take a tag object as an argument and return a boolean. Every tag object that BeautifulSoup encounters is evaluated in this\n",
        "function, and tags that evaluate to `True` are returned, while the rest are discarded. \\\\\n",
        "For example, the following retrieves all tags that have exactly two attributes:"
      ]
    },
    {
      "cell_type": "code",
      "metadata": {
        "id": "XvPJSAoD6Guq",
        "colab_type": "code",
        "colab": {
          "base_uri": "https://localhost:8080/",
          "height": 826
        },
        "outputId": "68097fa8-96c8-4aea-8802-d0ce9a47e904"
      },
      "source": [
        "bs.find_all(lambda tag: len(tag.attrs) == 2)"
      ],
      "execution_count": 34,
      "outputs": [
        {
          "output_type": "execute_result",
          "data": {
            "text/plain": [
              "[<img src=\"../img/gifts/logo.jpg\" style=\"float:left;\"/>,\n",
              " <tr class=\"gift\" id=\"gift1\"><td>\n",
              " Vegetable Basket\n",
              " </td><td>\n",
              " This vegetable basket is the perfect gift for your health conscious (or overweight) friends!\n",
              " <span class=\"excitingNote\">Now with super-colorful bell peppers!</span>\n",
              " </td><td>\n",
              " $15.00\n",
              " </td><td>\n",
              " <img src=\"../img/gifts/img1.jpg\"/>\n",
              " </td></tr>,\n",
              " <tr class=\"gift\" id=\"gift2\"><td>\n",
              " Russian Nesting Dolls\n",
              " </td><td>\n",
              " Hand-painted by trained monkeys, these exquisite dolls are priceless! And by \"priceless,\" we mean \"extremely expensive\"! <span class=\"excitingNote\">8 entire dolls per set! Octuple the presents!</span>\n",
              " </td><td>\n",
              " $10,000.52\n",
              " </td><td>\n",
              " <img src=\"../img/gifts/img2.jpg\"/>\n",
              " </td></tr>,\n",
              " <tr class=\"gift\" id=\"gift3\"><td>\n",
              " Fish Painting\n",
              " </td><td>\n",
              " If something seems fishy about this painting, it's because it's a fish! <span class=\"excitingNote\">Also hand-painted by trained monkeys!</span>\n",
              " </td><td>\n",
              " $10,005.00\n",
              " </td><td>\n",
              " <img src=\"../img/gifts/img3.jpg\"/>\n",
              " </td></tr>,\n",
              " <tr class=\"gift\" id=\"gift4\"><td>\n",
              " Dead Parrot\n",
              " </td><td>\n",
              " This is an ex-parrot! <span class=\"excitingNote\">Or maybe he's only resting?</span>\n",
              " </td><td>\n",
              " $0.50\n",
              " </td><td>\n",
              " <img src=\"../img/gifts/img4.jpg\"/>\n",
              " </td></tr>,\n",
              " <tr class=\"gift\" id=\"gift5\"><td>\n",
              " Mystery Box\n",
              " </td><td>\n",
              " If you love suprises, this mystery box is for you! Do not place on light-colored surfaces. May cause oil staining. <span class=\"excitingNote\">Keep your friends guessing!</span>\n",
              " </td><td>\n",
              " $1.50\n",
              " </td><td>\n",
              " <img src=\"../img/gifts/img6.jpg\"/>\n",
              " </td></tr>]"
            ]
          },
          "metadata": {
            "tags": []
          },
          "execution_count": 34
        }
      ]
    },
    {
      "cell_type": "markdown",
      "metadata": {
        "id": "ZlvDZzC46cYO",
        "colab_type": "text"
      },
      "source": [
        "The lambda functions can be used to replace the existing BeautifulSoup functions:"
      ]
    },
    {
      "cell_type": "code",
      "metadata": {
        "id": "N2CJOHAB6hOv",
        "colab_type": "code",
        "colab": {
          "base_uri": "https://localhost:8080/",
          "height": 34
        },
        "outputId": "d1c13ae8-58bd-4c6c-f20c-a9e5fb92f1e5"
      },
      "source": [
        "bs.find_all(lambda tag: tag.get_text() == 'Or maybe he\\'s only resting?')"
      ],
      "execution_count": 35,
      "outputs": [
        {
          "output_type": "execute_result",
          "data": {
            "text/plain": [
              "[<span class=\"excitingNote\">Or maybe he's only resting?</span>]"
            ]
          },
          "metadata": {
            "tags": []
          },
          "execution_count": 35
        }
      ]
    },
    {
      "cell_type": "markdown",
      "metadata": {
        "id": "1iaYrQVG6tve",
        "colab_type": "text"
      },
      "source": [
        "This can also be accomplished without a lambda function:"
      ]
    },
    {
      "cell_type": "code",
      "metadata": {
        "id": "Db10TxGw6wya",
        "colab_type": "code",
        "colab": {
          "base_uri": "https://localhost:8080/",
          "height": 34
        },
        "outputId": "5358d58a-2920-46de-8bdc-41ea509d0188"
      },
      "source": [
        "bs.find_all('', text='Or maybe he\\'s only resting?')"
      ],
      "execution_count": 36,
      "outputs": [
        {
          "output_type": "execute_result",
          "data": {
            "text/plain": [
              "[\"Or maybe he's only resting?\"]"
            ]
          },
          "metadata": {
            "tags": []
          },
          "execution_count": 36
        }
      ]
    },
    {
      "cell_type": "markdown",
      "metadata": {
        "id": "oum2pi8k7LRW",
        "colab_type": "text"
      },
      "source": [
        "Note the output difference of the above different calls..."
      ]
    },
    {
      "cell_type": "markdown",
      "metadata": {
        "id": "BxN3udsE69c2",
        "colab_type": "text"
      },
      "source": [
        "Because the provided lambda functions can be any functions that return a `True` or\n",
        "`False` value, they can be combined with regular expressions to find tags with\n",
        "an attribute matching a certain string pattern."
      ]
    }
  ]
}