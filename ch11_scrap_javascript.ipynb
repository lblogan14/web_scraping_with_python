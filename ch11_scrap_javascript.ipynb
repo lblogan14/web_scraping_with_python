{
  "nbformat": 4,
  "nbformat_minor": 0,
  "metadata": {
    "colab": {
      "name": "ch11_scrap_javascript.ipynb",
      "version": "0.3.2",
      "provenance": [],
      "collapsed_sections": [],
      "include_colab_link": true
    },
    "kernelspec": {
      "name": "python3",
      "display_name": "Python 3"
    }
  },
  "cells": [
    {
      "cell_type": "markdown",
      "metadata": {
        "id": "view-in-github",
        "colab_type": "text"
      },
      "source": [
        "<a href=\"https://colab.research.google.com/github/lblogan14/web_scraping_with_python/blob/master/ch11_scrap_javascript.ipynb\" target=\"_parent\"><img src=\"https://colab.research.google.com/assets/colab-badge.svg\" alt=\"Open In Colab\"/></a>"
      ]
    },
    {
      "cell_type": "markdown",
      "metadata": {
        "id": "i55fzPeWyWFe",
        "colab_type": "text"
      },
      "source": [
        "Client-side scripting languages are languages that are run in the browser itself, rather\n",
        "than on a web server. The success of a client-side language depends on your browser’s\n",
        "ability to interpret and execute the language correctly.\n",
        "\n",
        "JavaScript is the most common and most well-supported client-side scripting language on the web today. It is embedded between `script` tags in the page's source code:\n",
        "\n",
        "\n",
        "```\n",
        "<script>\n",
        "alert(\"This creates a pop-up using JavaScript\");\n",
        "</script>\n",
        "```"
      ]
    },
    {
      "cell_type": "markdown",
      "metadata": {
        "id": "JJwMpLPcy3vT",
        "colab_type": "text"
      },
      "source": [
        "#A Brief Introduction to JavaScript\n",
        "JavaScript is a weakly typed language, with a syntax that is often compared to C++\n",
        "and Java. For example, the following recursively calcualtes values in the Fibonacci sequence, and prints them to the browser's developer console:\n",
        "\n",
        "\n",
        "```\n",
        "<script>\n",
        "function fibonacci(a, b){\n",
        "  var nextNum = a + b;\n",
        "  console.log(nextNum+\" is in the Fibonacci sequence\");\n",
        "  if(nextNum < 100){\n",
        "    fibonacci(b, nextNum);\n",
        "  }\n",
        "}\n",
        "fibonacci(1, 1);\n",
        "</script>\n",
        "```\n",
        "All variables are identified by preceding them with `var`. This is similar to the type declaration (`int`, `String`, `List`, etc) in Java or C++.\n",
        "\n",
        "JavaScript is also extremely good at passing around functions just like variables:\n",
        "\n",
        "\n",
        "```\n",
        "<script>\n",
        "var fibonacci = function() {\n",
        "  var a = 1;\n",
        "  var b = 1;\n",
        "  return function () {\n",
        "    var temp = b;\n",
        "    b = a + b;\n",
        "    a = temp;\n",
        "    return b;\n",
        "  }\n",
        "}\n",
        "var fibInstance = fibonacci();\n",
        "console.log(fibInstance()+\" is in the Fibonacci sequence\");\n",
        "console.log(fibInstance()+\" is in the Fibonacci sequence\");\n",
        "console.log(fibInstance()+\" is in the Fibonacci sequence\");\n",
        "</script>\n",
        "```\n",
        "\n",
        "This is just similar to the lambda expressions. The variable `fibonacci` is defined as a function. The value of its function returns a function that prints increasingly large values in the Fibonacci sequence."
      ]
    },
    {
      "cell_type": "markdown",
      "metadata": {
        "id": "7kCtK0M70ek9",
        "colab_type": "text"
      },
      "source": [
        "##Common JavaScript Libraries\n",
        "**jQuery** \\\\\n",
        "*jQuery* is used by identifying the following:\n",
        "```\n",
        "<script src=\"http://ajax.googleapis.com/ajax/libs/jquery/1.9.1/jquery.min.js\"></script>\n",
        "```\n",
        "jQuery is adept at dynamically creating HTML content that appears only after the JavaScript is executed. The users will retrieve only the preloaded page that appears before the JavaScript has created the content if the page's content is scraped by using traditional methods."
      ]
    },
    {
      "cell_type": "markdown",
      "metadata": {
        "id": "Uq2X9auG1Ujq",
        "colab_type": "text"
      },
      "source": [
        "**Google Analytics** \\\\\n",
        "It will have JavaScript at the bottom, similar to the following:\n",
        "\n",
        "```\n",
        "<!-- Google Analytics -->\n",
        "<script type=\"text/javascript\">\n",
        "var _gaq = _gaq || [];\n",
        "_gaq.push(['_setAccount', 'UA-4591498-1']);\n",
        "_gaq.push(['_setDomainName', 'oreilly.com']);\n",
        "_gaq.push(['_addIgnoredRef', 'oreilly.com']);\n",
        "_gaq.push(['_setSiteSpeedSampleRate', 50]);\n",
        "_gaq.push(['_trackPageview']);\n",
        "(function() { var ga = document.createElement('script'); ga.type =\n",
        "'text/javascript'; ga.async = true; ga.src = ('https:' ==\n",
        "document.location.protocol ? 'https://ssl' : 'http://www') +\n",
        "'.google-analytics.com/ga.js'; var s =\n",
        "document.getElementsByTagName('script')[0];\n",
        "s.parentNode.insertBefore(ga, s); })();\n",
        "</script>\n",
        "```\n",
        "\n",
        "This script handles Google Analytics–specific cookies used to track your visit from\n",
        "page to page. This can sometimes be a problem for web scrapers that are designed to\n",
        "execute JavaScript and handle cookies"
      ]
    },
    {
      "cell_type": "markdown",
      "metadata": {
        "id": "P8MEXj5g1pqa",
        "colab_type": "text"
      },
      "source": [
        "**Google Maps** \\\\\n",
        "One of the most common ways to denote a location in Google Maps is through a *marker* (also known as a *pin*). Markers can be inserted into any Google Map by using code such as the following:\n",
        "\n",
        "\n",
        "```\n",
        "var marker = new google.maps.Marker({\n",
        "  position: new google.maps.LatLng(-25.363882,131.044922),\n",
        "  map: map,\n",
        "  title: 'Some marker text'\n",
        "});\n",
        "```\n",
        "\n"
      ]
    },
    {
      "cell_type": "markdown",
      "metadata": {
        "id": "ITCmHb8L2AMi",
        "colab_type": "text"
      },
      "source": [
        "#Ajax and Dynamic HTML\n",
        "Ajax is a group of technologies used to accomplish a certain task. Ajax stands for *Asynchronous JavaScript and XML*, and is used to send information to and receive it from a web server without making a separate page request.\n",
        "\n",
        "Like Ajax, *dynamic HTML* (DHTML) is a collection of technologies used for a common purpose. DHTML is HTML code, CSS language, or both that changes as client-side scripts change HTML elements on the page. A button might appear only after the user moves the cursor, a background color might change on a click, or an Ajax request might trigger a new block of content to load.\n",
        "\n",
        "The content in the browser may not match the content in the source retrieved from the site. Also, the web page might also have a loading page that appears to redirect to another\n",
        "page of results, but the page’s URL never changes when this redirect happens. Both of these are caused by a failure of a scraper to execute the JavaScript."
      ]
    },
    {
      "cell_type": "markdown",
      "metadata": {
        "id": "cBnomGzh3f2C",
        "colab_type": "text"
      },
      "source": [
        "##Executing JavaScript in Python with Selenium\n",
        "PhantomJS is what is known as a *headless browser*. It loads websites into memory and\n",
        "executes JavaScript on the page, but does it without any graphic rendering of the website to the user.\n",
        "\n",
        "Selenium works by automating browsers to load the website,\n",
        "retrieve the required data, and even take screenshots or assert that certain actions\n",
        "happen on the website.\n",
        "\n",
        "The example here uses the page (http://pythonscraping.com/pages/javascript/ajaxDemo.html)."
      ]
    },
    {
      "cell_type": "code",
      "metadata": {
        "id": "qjRwB_AH4P38",
        "colab_type": "code",
        "colab": {
          "base_uri": "https://localhost:8080/",
          "height": 141
        },
        "outputId": "ca13f683-3b58-4650-a637-ee11557383b1"
      },
      "source": [
        "!pip3 install selenium"
      ],
      "execution_count": 1,
      "outputs": [
        {
          "output_type": "stream",
          "text": [
            "Collecting selenium\n",
            "\u001b[?25l  Downloading https://files.pythonhosted.org/packages/80/d6/4294f0b4bce4de0abf13e17190289f9d0613b0a44e5dd6a7f5ca98459853/selenium-3.141.0-py2.py3-none-any.whl (904kB)\n",
            "\u001b[K     |████████████████████████████████| 911kB 2.8MB/s \n",
            "\u001b[?25hRequirement already satisfied: urllib3 in /usr/local/lib/python3.6/dist-packages (from selenium) (1.24.3)\n",
            "Installing collected packages: selenium\n",
            "Successfully installed selenium-3.141.0\n"
          ],
          "name": "stdout"
        }
      ]
    },
    {
      "cell_type": "markdown",
      "metadata": {
        "id": "1Z1uDqKo4Ulh",
        "colab_type": "text"
      },
      "source": [
        "The Selenium library is an API called on the object WebDriver. The WebDriver is a\n",
        "bit like a browser in that it can load websites, but it can also be used like a `BeautifulSoup` object to find page elements, interact with elements on the page (send text,\n",
        "click, etc.), and do other actions to drive the web scrapers.\n",
        "\n",
        "The following code retrieves text behind an Ajax \"wall\" on the test page:"
      ]
    },
    {
      "cell_type": "code",
      "metadata": {
        "id": "tNW7Ux7S4gus",
        "colab_type": "code",
        "colab": {}
      },
      "source": [
        "from selenium import webdriver\n",
        "import time\n",
        "\n",
        "driver = webdriver.PhantomJS(executable_path='<PhantomJS Path Here>')\n",
        "driver.get('http://pythonscraping.com/pages/javascript/ajaxDemo.html')\n",
        "time.sleep(3)\n",
        "print(driver.find_element_by_id('content').text)\n",
        "driver.close()"
      ],
      "execution_count": 0,
      "outputs": []
    },
    {
      "cell_type": "markdown",
      "metadata": {
        "id": "vTH1JUJB51ha",
        "colab_type": "text"
      },
      "source": [
        "This creates a new Selenium WebDriver, using the *PhantomJS* library, which tells the\n",
        "WebDriver to load a page and then pauses execution for three seconds before looking\n",
        "at the page to retrieve the (hopefully loaded) content."
      ]
    },
    {
      "cell_type": "markdown",
      "metadata": {
        "id": "j6guJIMMCS7g",
        "colab_type": "text"
      },
      "source": [
        "To run this on chrome:"
      ]
    },
    {
      "cell_type": "code",
      "metadata": {
        "id": "1niF4ANKCgbZ",
        "colab_type": "code",
        "colab": {}
      },
      "source": [
        "from selenium import webdriver\n",
        "from selenium.webdriver.chrome.options import Options\n",
        "import time"
      ],
      "execution_count": 0,
      "outputs": []
    },
    {
      "cell_type": "code",
      "metadata": {
        "id": "Sf-1gQKeCiTF",
        "colab_type": "code",
        "colab": {}
      },
      "source": [
        "chrome_options = Options()\n",
        "chrome_options.add_argument(\"--headless\")\n",
        "driver = webdriver.Chrome(executable_path='drivers/chromedriver', \n",
        "                          options=chrome_options)\n",
        "driver.get('http://pythonscraping.com/pages/javascript/ajaxDemo.html')\n",
        "time.sleep(3)\n",
        "print(driver.find_element_by_id('content').text)\n",
        "driver.close()"
      ],
      "execution_count": 0,
      "outputs": []
    },
    {
      "cell_type": "markdown",
      "metadata": {
        "id": "B8OQsJpU6bLk",
        "colab_type": "text"
      },
      "source": [
        "If the `time.sleep` pause is changed to one second instead of three:\n",
        "\n",
        "\n",
        "```\n",
        "time.sleep(1)\n",
        "```\n",
        "\n"
      ]
    },
    {
      "cell_type": "markdown",
      "metadata": {
        "id": "X4LHwFmV5GBm",
        "colab_type": "text"
      },
      "source": [
        "Selenium uses an entirely new set of selectors to find an element in a WebDriver’s DOM, although they have fairly straightforward names. \\\\\n",
        "DOM, Document Object Model, connects web pages to scripts or programming languages by representing the structure of a document -- such as the HTML representing a web page -- in memory. Usually that means JavaScript, although modeling HTML, SVG, or XML documents as objects is not part of the JavaScript language, as such. The DOM represents a document with a logical tree. Each branch of the tree ends in a node, and each node contains objects. DOM methods allow programmatic access to the tree; with them the document's structure, style, or content can be changed. Nodes can also have event handlers attached to them; once an event is triggered, the event handlers get executed.\n",
        "\n",
        "In the example, `find_element_by_id` is used, although the following other selectors can be used as well:\n",
        "\n",
        "\n",
        "```\n",
        "driver.find_element_by_css_selector('#content')\n",
        "driver.find_element_by_tag_name('div')\n",
        "```\n",
        "\n",
        "To select multiple elements on the page:\n",
        "\n",
        "\n",
        "```\n",
        "driver.find_elements_by_css_selector('#content')\n",
        "driver.find_elements_by_css_selector('div')\n",
        "```\n",
        "\n",
        "To use `BeautifulSoup` to parse the content, use the WebDriver's `page_source` function:\n",
        "\n",
        "\n",
        "```\n",
        "pageSource = driver.page_source\n",
        "bs = BeautifulSoup(pageSource, 'html.parser')\n",
        "print(bs.find(id='content').get_text())\n",
        "```\n",
        "\n"
      ]
    },
    {
      "cell_type": "markdown",
      "metadata": {
        "id": "epi8YlxV6n6S",
        "colab_type": "text"
      },
      "source": [
        "Although this solution works, it is somewhat inefficient, and implementing it could\n",
        "cause problems on a large scale. Page-load times are inconsistent, depending on the\n",
        "server load at any particular millisecond, and natural variations occur in connection\n",
        "speed.\n",
        "\n",
        "A more efficient solution would repeatedly check for the existence of a particular element on a fully loaded page and return only when that element exists. This code uses the presence of the button with the ID `loadedButton` to declare that the page has been fully loaded:"
      ]
    },
    {
      "cell_type": "code",
      "metadata": {
        "id": "r2fQk9YX67cY",
        "colab_type": "code",
        "colab": {}
      },
      "source": [
        "from selenium import webdriver\n",
        "from selenium.webdriver.common.by import By\n",
        "from selenium.webdriver.support.ui import WebDriverWait\n",
        "from selenium.webdriver.support import expected_conditions as EC"
      ],
      "execution_count": 0,
      "outputs": []
    },
    {
      "cell_type": "code",
      "metadata": {
        "id": "cE5xDDBR6-Rz",
        "colab_type": "code",
        "colab": {}
      },
      "source": [
        "driver = webdriver.PhantomJS(executable_path='')\n",
        "driver.get('http://pythonscraping.com/pages/javascript/ajaxDemo.html')\n",
        "try:\n",
        "  element = WebDriverWait(driver, 10).until(EC.presence_of_element_located((By.ID, 'loadedButton')))\n",
        "finally:\n",
        "  print(driver.find_element_by_id('content').text)\n",
        "  driver.close()"
      ],
      "execution_count": 0,
      "outputs": []
    },
    {
      "cell_type": "markdown",
      "metadata": {
        "id": "5ZgZeBDW7Hz_",
        "colab_type": "text"
      },
      "source": [
        "The `WebDriverWait` and `expected_conditions` are combined to form what Selenium calls an *implicit wait*. It waits for a cetain state in the DOM to occur before continuing, while an explicit wait defines a hardcoded time. In an implicit wait, the triggering DOM state is defined by `expected_condition` (the import is cast to `EC` here)\n",
        "\n",
        "Most of these expected conditions require that users specify an element to watch for in\n",
        "the first place. Elements are specified using locators. A *locator* is an abstract query language, using the `By` object, which can be used in a variety of ways, including to make selectors.\n",
        "\n",
        "A locator is used to find elements with the ID `loadedButton`:\n",
        "```\n",
        "EC.presence_of_element_located((By.ID, 'loadedButton'))\n",
        "```\n",
        "\n",
        "A locator can be used to create selectors, suing the `find_element` WebDriver function:\n",
        "```\n",
        "print(driver.find_element(By.ID, 'content').text)\n",
        "```\n",
        "which is functionally equivalent to:\n",
        "```\n",
        "print(driver.find_element_by_id('content').text)\n",
        "```"
      ]
    },
    {
      "cell_type": "markdown",
      "metadata": {
        "id": "TQ1vsuKEC1-3",
        "colab_type": "text"
      },
      "source": [
        "To run this on chrome:"
      ]
    },
    {
      "cell_type": "code",
      "metadata": {
        "id": "6eNLnYiNC34Z",
        "colab_type": "code",
        "colab": {}
      },
      "source": [
        "from selenium import webdriver\n",
        "from selenium.webdriver.common.by import By\n",
        "from selenium.webdriver.support.ui import WebDriverWait\n",
        "from selenium.webdriver.support import expected_conditions as EC"
      ],
      "execution_count": 0,
      "outputs": []
    },
    {
      "cell_type": "code",
      "metadata": {
        "id": "HmdCfIu5C56U",
        "colab_type": "code",
        "colab": {}
      },
      "source": [
        "chrome_options = Options()\n",
        "chrome_options.add_argument(\"--headless\")\n",
        "driver = webdriver.Chrome(executable_path='drivers/chromedriver',\n",
        "                          options=chrome_options)\n",
        "\n",
        "driver.get('http://pythonscraping.com/pages/javascript/ajaxDemo.html')\n",
        "try:\n",
        "  element = WebDriverWait(driver, 10).until(EC.presence_of_element_located((By.ID, 'loadedButton')))\n",
        "finally:\n",
        "  print(driver.find_element_by_id('content').text)\n",
        "  driver.close()"
      ],
      "execution_count": 0,
      "outputs": []
    },
    {
      "cell_type": "markdown",
      "metadata": {
        "id": "9Jw33Nsl9nw8",
        "colab_type": "text"
      },
      "source": [
        "##Additional Selenium Webdrivers\n",
        "The Selenium group curates a collection of these webdrivers for easy reference.\n",
        "\n",
        "```\n",
        "firefox_driver = webdriver.Firefox('<path to Firefox webdriver>')\n",
        "chrome_driver = webdriver.Chrome('<path to Chrome webdriver>')\n",
        "safari_driver = webdriver.Safari('<path to Safari webdriver>')\n",
        "ie_driver = webdriver.Ie('<path to Internet Explorer webdriver>')\n",
        "```\n",
        "\n"
      ]
    },
    {
      "cell_type": "markdown",
      "metadata": {
        "id": "X3WOf4JT95Sy",
        "colab_type": "text"
      },
      "source": [
        "#Handling Redirects\n",
        "Client-side redirects are page redirects that are executed in the browser by JavaScript, rather than a redirect performed on the server, before the page content is sent.\n",
        "\n",
        "A server-side redirect, depending on how it is handled, can be easily traversed by Python’s urllib library without any help from Selenium (mentioned in Chapter 3)\n",
        "\n",
        "Client-side redirects won’t be handled at all unless something is executing the JavaScript.\n",
        "\n",
        "Detecting the redirect successfully is to \"watch\" an element in the DOM when the page initially loads and then repeatedly call that element until Selenium throws a `StaleElementReferenceException`; the element is no longer attached to the page's DOM and the site has redirected:"
      ]
    },
    {
      "cell_type": "code",
      "metadata": {
        "id": "wasaPl05_V1H",
        "colab_type": "code",
        "colab": {}
      },
      "source": [
        "from selenium import webdriver\n",
        "import time\n",
        "from selenium.webdriver.remote.webelement import WebElement\n",
        "from selenium.common.exceptions import StaleElementReferenceException"
      ],
      "execution_count": 0,
      "outputs": []
    },
    {
      "cell_type": "code",
      "metadata": {
        "id": "taJpnbqz_d7I",
        "colab_type": "code",
        "colab": {}
      },
      "source": [
        "def waitForLoad(driver):\n",
        "  elem = driver.find_element_by_tag_name(\"html\")\n",
        "  count = 0\n",
        "  while True:\n",
        "    count += 1\n",
        "    if count > 20:\n",
        "      print('Timing out after 10 seconds and returning')\n",
        "      return\n",
        "    time.sleep(.5)\n",
        "    try:\n",
        "      elem == driver.find_element_by_tag_name('html')\n",
        "    except StaleElementReferenceException:\n",
        "      return"
      ],
      "execution_count": 0,
      "outputs": []
    },
    {
      "cell_type": "code",
      "metadata": {
        "id": "xXL7AMAv_nHU",
        "colab_type": "code",
        "colab": {}
      },
      "source": [
        "driver = webdriver.PhantomJS(executable_path='<Path to Phantom JS>')\n",
        "driver.get('http://pythonscraping.com/pages/javascript/redirectDemo1.html')\n",
        "waitForLoad(driver)\n",
        "print(driver.page_source)"
      ],
      "execution_count": 0,
      "outputs": []
    },
    {
      "cell_type": "markdown",
      "metadata": {
        "id": "gRJXianR_rKB",
        "colab_type": "text"
      },
      "source": [
        "This script checks the page every half second, with a time-out of 10 seconds, although\n",
        "the times used for the checking time and time-out can be easily adjusted up or down\n",
        "as needed."
      ]
    },
    {
      "cell_type": "markdown",
      "metadata": {
        "id": "NZu_jEnmC956",
        "colab_type": "text"
      },
      "source": [
        "To run this on chrome:"
      ]
    },
    {
      "cell_type": "code",
      "metadata": {
        "id": "jzeT8VRhC_bD",
        "colab_type": "code",
        "colab": {}
      },
      "source": [
        "from selenium import webdriver\n",
        "from selenium.webdriver.chrome.options import Options\n",
        "from selenium.webdriver.remote.webelement import WebElement\n",
        "from selenium.common.exceptions import StaleElementReferenceException\n",
        "import time"
      ],
      "execution_count": 0,
      "outputs": []
    },
    {
      "cell_type": "code",
      "metadata": {
        "id": "TGTFtFO6DB76",
        "colab_type": "code",
        "colab": {}
      },
      "source": [
        "def waitForLoad(driver):\n",
        "  elem = driver.find_element_by_tag_name(\"html\")\n",
        "  count = 0\n",
        "  while True:\n",
        "    count += 1\n",
        "    if count > 20:\n",
        "      print(\"Timing out after 10 seconds and returning\")\n",
        "      return\n",
        "    time.sleep(.5)\n",
        "    try:\n",
        "      elem == driver.find_element_by_tag_name(\"html\")\n",
        "    except StaleElementReferenceException:\n",
        "      return"
      ],
      "execution_count": 0,
      "outputs": []
    },
    {
      "cell_type": "code",
      "metadata": {
        "id": "skPslI0rDEkr",
        "colab_type": "code",
        "colab": {}
      },
      "source": [
        "chrome_options = Options()\n",
        "chrome_options.add_argument(\"--headless\")\n",
        "driver = webdriver.Chrome(executable_path='drivers/chromedriver',\n",
        "                          options=chrome_options)\n",
        "driver.get(\"http://pythonscraping.com/pages/javascript/redirectDemo1.html\")\n",
        "waitForLoad(driver)\n",
        "print(driver.page_source)\n",
        "driver.close()"
      ],
      "execution_count": 0,
      "outputs": []
    },
    {
      "cell_type": "markdown",
      "metadata": {
        "id": "WhFTwt52_tSA",
        "colab_type": "text"
      },
      "source": [
        "Alternative way is to write a similar loop checking the current URL of the page until the URL changes, or it matches a specific URL that is searched for."
      ]
    },
    {
      "cell_type": "markdown",
      "metadata": {
        "id": "BfMl0WWC_6w6",
        "colab_type": "text"
      },
      "source": [
        "Waiting for elements to appear and disappear is a common task in Selenium, and the `WebDriverWait` can also be used. The following example provides a time-out of 15 seconds and an XPath selector that looks for the page body content to accomplish the same task:"
      ]
    },
    {
      "cell_type": "code",
      "metadata": {
        "id": "5drl2B1JAMkA",
        "colab_type": "code",
        "colab": {}
      },
      "source": [
        "from selenium.webdriver.common.by import By\n",
        "from selenium.webdriver.support.ui import WebDriverWait\n",
        "from selenium.webdriver.support import expected_conditions as EC\n",
        "from selenium.common.exceptions import TimeoutException"
      ],
      "execution_count": 0,
      "outputs": []
    },
    {
      "cell_type": "code",
      "metadata": {
        "id": "500FBH9KAQbH",
        "colab_type": "code",
        "colab": {}
      },
      "source": [
        "driver = webdriver.PhantomJS(executable_path='drivers/phantomjs/phantomjs-2.1.1-macosx/bin/phantomjs')\n",
        "driver.get('http://pythonscraping.com/pages/javascript/redirectDemo1.html')\n",
        "\n",
        "try:\n",
        "  bodyElement = WebDriverWait(driver, 15).until(EC.presence_of_element_located((By.XPATH, '//body[contains(text(),\"This is the page you are looking for!)]\")))\n",
        "  print(bodyElement.text)\n",
        "except TimeoutException:\n",
        "  print('Did not find the element')"
      ],
      "execution_count": 0,
      "outputs": []
    },
    {
      "cell_type": "markdown",
      "metadata": {
        "id": "NpAlo6kbDHds",
        "colab_type": "text"
      },
      "source": [
        "To run this on chrome"
      ]
    },
    {
      "cell_type": "code",
      "metadata": {
        "id": "5T_mBOd0DI3l",
        "colab_type": "code",
        "colab": {}
      },
      "source": [
        "from selenium.webdriver.common.by import By\n",
        "from selenium.webdriver.support.ui import WebDriverWait\n",
        "from selenium.webdriver.chrome.options import Options\n",
        "from selenium.webdriver.support import expected_conditions as EC\n",
        "from selenium.common.exceptions import TimeoutException"
      ],
      "execution_count": 0,
      "outputs": []
    },
    {
      "cell_type": "code",
      "metadata": {
        "id": "4ygw6R74DLeb",
        "colab_type": "code",
        "colab": {}
      },
      "source": [
        "chrome_options = Options()\n",
        "chrome_options.add_argument(\"--headless\")\n",
        "driver = webdriver.Chrome(executable_path='drivers/chromedriver', \n",
        "                          options=chrome_options)\n",
        "driver.get('http://pythonscraping.com/pages/javascript/redirectDemo1.html')\n",
        "try:\n",
        "  bodyElement = WebDriverWait(driver, 15).until(EC.presence_of_element_located((By.XPATH, '//body[contains(text(), \"This is the page you are looking for!\")]')))\n",
        "  print(bodyElement.text)\n",
        "except TimeoutException:\n",
        "  print('Did not find the element')"
      ],
      "execution_count": 0,
      "outputs": []
    }
  ]
}